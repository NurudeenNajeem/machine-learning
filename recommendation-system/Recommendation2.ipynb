{
 "cells": [
  {
   "cell_type": "code",
   "execution_count": 2,
   "id": "7007e366-6d5f-4835-8287-2b8bed3d0095",
   "metadata": {},
   "outputs": [],
   "source": [
    "import matplotlib.pyplot as plt\n",
    "import pandas as pd\n",
    "import numpy as np\n",
    "import seaborn as sn\n",
    "sn.set_style('darkgrid')\n",
    "from sklearn.model_selection import train_test_split\n",
    "from sklearn import metrics\n",
    "from sklearn.linear_model import LogisticRegression\n",
    "from sklearn.metrics import accuracy_score, confusion_matrix\n",
    "import warnings\n",
    "# Ignore all warnings\n",
    "warnings.filterwarnings(\"ignore\")"
   ]
  },
  {
   "cell_type": "code",
   "execution_count": 3,
   "id": "e5ddfa45-d5fd-4757-bead-75ba641d793e",
   "metadata": {},
   "outputs": [],
   "source": [
    "credit=pd.read_csv('tmdb_5000_credits.csv')"
   ]
  },
  {
   "cell_type": "code",
   "execution_count": 4,
   "id": "d8f1e57d-5c10-4390-8b5c-fdc675fdcc84",
   "metadata": {},
   "outputs": [],
   "source": [
    "movie=pd.read_csv('tmdb_5000_movies.csv')"
   ]
  },
  {
   "cell_type": "code",
   "execution_count": 5,
   "id": "d79f5af9-9406-43ee-9e88-c0e689a759be",
   "metadata": {},
   "outputs": [
    {
     "data": {
      "text/html": [
       "<div>\n",
       "<style scoped>\n",
       "    .dataframe tbody tr th:only-of-type {\n",
       "        vertical-align: middle;\n",
       "    }\n",
       "\n",
       "    .dataframe tbody tr th {\n",
       "        vertical-align: top;\n",
       "    }\n",
       "\n",
       "    .dataframe thead th {\n",
       "        text-align: right;\n",
       "    }\n",
       "</style>\n",
       "<table border=\"1\" class=\"dataframe\">\n",
       "  <thead>\n",
       "    <tr style=\"text-align: right;\">\n",
       "      <th></th>\n",
       "      <th>budget</th>\n",
       "      <th>genres</th>\n",
       "      <th>homepage</th>\n",
       "      <th>id</th>\n",
       "      <th>keywords</th>\n",
       "      <th>original_language</th>\n",
       "      <th>original_title</th>\n",
       "      <th>overview</th>\n",
       "      <th>popularity</th>\n",
       "      <th>production_companies</th>\n",
       "      <th>production_countries</th>\n",
       "      <th>release_date</th>\n",
       "      <th>revenue</th>\n",
       "      <th>runtime</th>\n",
       "      <th>spoken_languages</th>\n",
       "      <th>status</th>\n",
       "      <th>tagline</th>\n",
       "      <th>title</th>\n",
       "      <th>vote_average</th>\n",
       "      <th>vote_count</th>\n",
       "    </tr>\n",
       "  </thead>\n",
       "  <tbody>\n",
       "    <tr>\n",
       "      <th>0</th>\n",
       "      <td>237000000</td>\n",
       "      <td>[{\"id\": 28, \"name\": \"Action\"}, {\"id\": 12, \"nam...</td>\n",
       "      <td>http://www.avatarmovie.com/</td>\n",
       "      <td>19995</td>\n",
       "      <td>[{\"id\": 1463, \"name\": \"culture clash\"}, {\"id\":...</td>\n",
       "      <td>en</td>\n",
       "      <td>Avatar</td>\n",
       "      <td>In the 22nd century, a paraplegic Marine is di...</td>\n",
       "      <td>150.437577</td>\n",
       "      <td>[{\"name\": \"Ingenious Film Partners\", \"id\": 289...</td>\n",
       "      <td>[{\"iso_3166_1\": \"US\", \"name\": \"United States o...</td>\n",
       "      <td>2009-12-10</td>\n",
       "      <td>2787965087</td>\n",
       "      <td>162.0</td>\n",
       "      <td>[{\"iso_639_1\": \"en\", \"name\": \"English\"}, {\"iso...</td>\n",
       "      <td>Released</td>\n",
       "      <td>Enter the World of Pandora.</td>\n",
       "      <td>Avatar</td>\n",
       "      <td>7.2</td>\n",
       "      <td>11800</td>\n",
       "    </tr>\n",
       "  </tbody>\n",
       "</table>\n",
       "</div>"
      ],
      "text/plain": [
       "      budget                                             genres  \\\n",
       "0  237000000  [{\"id\": 28, \"name\": \"Action\"}, {\"id\": 12, \"nam...   \n",
       "\n",
       "                      homepage     id  \\\n",
       "0  http://www.avatarmovie.com/  19995   \n",
       "\n",
       "                                            keywords original_language  \\\n",
       "0  [{\"id\": 1463, \"name\": \"culture clash\"}, {\"id\":...                en   \n",
       "\n",
       "  original_title                                           overview  \\\n",
       "0         Avatar  In the 22nd century, a paraplegic Marine is di...   \n",
       "\n",
       "   popularity                               production_companies  \\\n",
       "0  150.437577  [{\"name\": \"Ingenious Film Partners\", \"id\": 289...   \n",
       "\n",
       "                                production_countries release_date     revenue  \\\n",
       "0  [{\"iso_3166_1\": \"US\", \"name\": \"United States o...   2009-12-10  2787965087   \n",
       "\n",
       "   runtime                                   spoken_languages    status  \\\n",
       "0    162.0  [{\"iso_639_1\": \"en\", \"name\": \"English\"}, {\"iso...  Released   \n",
       "\n",
       "                       tagline   title  vote_average  vote_count  \n",
       "0  Enter the World of Pandora.  Avatar           7.2       11800  "
      ]
     },
     "execution_count": 5,
     "metadata": {},
     "output_type": "execute_result"
    }
   ],
   "source": [
    "movie.head(1)"
   ]
  },
  {
   "cell_type": "code",
   "execution_count": 6,
   "id": "b9ae8dd8-e54a-4fae-9fe1-0038d7bea917",
   "metadata": {},
   "outputs": [
    {
     "data": {
      "text/html": [
       "<div>\n",
       "<style scoped>\n",
       "    .dataframe tbody tr th:only-of-type {\n",
       "        vertical-align: middle;\n",
       "    }\n",
       "\n",
       "    .dataframe tbody tr th {\n",
       "        vertical-align: top;\n",
       "    }\n",
       "\n",
       "    .dataframe thead th {\n",
       "        text-align: right;\n",
       "    }\n",
       "</style>\n",
       "<table border=\"1\" class=\"dataframe\">\n",
       "  <thead>\n",
       "    <tr style=\"text-align: right;\">\n",
       "      <th></th>\n",
       "      <th>movie_id</th>\n",
       "      <th>title</th>\n",
       "      <th>cast</th>\n",
       "      <th>crew</th>\n",
       "    </tr>\n",
       "  </thead>\n",
       "  <tbody>\n",
       "    <tr>\n",
       "      <th>0</th>\n",
       "      <td>19995</td>\n",
       "      <td>Avatar</td>\n",
       "      <td>[{\"cast_id\": 242, \"character\": \"Jake Sully\", \"...</td>\n",
       "      <td>[{\"credit_id\": \"52fe48009251416c750aca23\", \"de...</td>\n",
       "    </tr>\n",
       "  </tbody>\n",
       "</table>\n",
       "</div>"
      ],
      "text/plain": [
       "   movie_id   title                                               cast  \\\n",
       "0     19995  Avatar  [{\"cast_id\": 242, \"character\": \"Jake Sully\", \"...   \n",
       "\n",
       "                                                crew  \n",
       "0  [{\"credit_id\": \"52fe48009251416c750aca23\", \"de...  "
      ]
     },
     "execution_count": 6,
     "metadata": {},
     "output_type": "execute_result"
    }
   ],
   "source": [
    "credit.head(1)"
   ]
  },
  {
   "cell_type": "code",
   "execution_count": 7,
   "id": "2c952f3e-79f7-4cae-8b6d-8307dba8cdac",
   "metadata": {},
   "outputs": [
    {
     "data": {
      "text/plain": [
       "original_language\n",
       "en    4505\n",
       "fr      70\n",
       "es      32\n",
       "zh      27\n",
       "de      27\n",
       "hi      19\n",
       "ja      16\n",
       "it      14\n",
       "cn      12\n",
       "ru      11\n",
       "ko      11\n",
       "pt       9\n",
       "da       7\n",
       "sv       5\n",
       "nl       4\n",
       "fa       4\n",
       "th       3\n",
       "he       3\n",
       "ta       2\n",
       "cs       2\n",
       "ro       2\n",
       "id       2\n",
       "ar       2\n",
       "vi       1\n",
       "sl       1\n",
       "ps       1\n",
       "no       1\n",
       "ky       1\n",
       "hu       1\n",
       "pl       1\n",
       "af       1\n",
       "nb       1\n",
       "tr       1\n",
       "is       1\n",
       "xx       1\n",
       "te       1\n",
       "el       1\n",
       "Name: count, dtype: int64"
      ]
     },
     "execution_count": 7,
     "metadata": {},
     "output_type": "execute_result"
    }
   ],
   "source": [
    "movie['original_language'].value_counts()"
   ]
  },
  {
   "cell_type": "code",
   "execution_count": 8,
   "id": "e2b5455e-4b5a-4e21-9a5d-640eefd8f99f",
   "metadata": {},
   "outputs": [
    {
     "name": "stdout",
     "output_type": "stream",
     "text": [
      "<class 'pandas.core.frame.DataFrame'>\n",
      "RangeIndex: 4803 entries, 0 to 4802\n",
      "Data columns (total 20 columns):\n",
      " #   Column                Non-Null Count  Dtype  \n",
      "---  ------                --------------  -----  \n",
      " 0   budget                4803 non-null   int64  \n",
      " 1   genres                4803 non-null   object \n",
      " 2   homepage              1712 non-null   object \n",
      " 3   id                    4803 non-null   int64  \n",
      " 4   keywords              4803 non-null   object \n",
      " 5   original_language     4803 non-null   object \n",
      " 6   original_title        4803 non-null   object \n",
      " 7   overview              4800 non-null   object \n",
      " 8   popularity            4803 non-null   float64\n",
      " 9   production_companies  4803 non-null   object \n",
      " 10  production_countries  4803 non-null   object \n",
      " 11  release_date          4802 non-null   object \n",
      " 12  revenue               4803 non-null   int64  \n",
      " 13  runtime               4801 non-null   float64\n",
      " 14  spoken_languages      4803 non-null   object \n",
      " 15  status                4803 non-null   object \n",
      " 16  tagline               3959 non-null   object \n",
      " 17  title                 4803 non-null   object \n",
      " 18  vote_average          4803 non-null   float64\n",
      " 19  vote_count            4803 non-null   int64  \n",
      "dtypes: float64(3), int64(4), object(13)\n",
      "memory usage: 750.6+ KB\n"
     ]
    }
   ],
   "source": [
    "movie.info()"
   ]
  },
  {
   "cell_type": "code",
   "execution_count": 9,
   "id": "7cb458b8-eb6b-41a2-87c8-d56b12c6d895",
   "metadata": {},
   "outputs": [
    {
     "name": "stdout",
     "output_type": "stream",
     "text": [
      "<class 'pandas.core.frame.DataFrame'>\n",
      "RangeIndex: 4803 entries, 0 to 4802\n",
      "Data columns (total 4 columns):\n",
      " #   Column    Non-Null Count  Dtype \n",
      "---  ------    --------------  ----- \n",
      " 0   movie_id  4803 non-null   int64 \n",
      " 1   title     4803 non-null   object\n",
      " 2   cast      4803 non-null   object\n",
      " 3   crew      4803 non-null   object\n",
      "dtypes: int64(1), object(3)\n",
      "memory usage: 150.2+ KB\n"
     ]
    }
   ],
   "source": [
    "credit.info()"
   ]
  },
  {
   "cell_type": "code",
   "execution_count": 10,
   "id": "6524f7ed-5729-4998-91a9-08296774c167",
   "metadata": {},
   "outputs": [
    {
     "data": {
      "text/plain": [
       "(4803, 4)"
      ]
     },
     "execution_count": 10,
     "metadata": {},
     "output_type": "execute_result"
    }
   ],
   "source": [
    "credit.shape"
   ]
  },
  {
   "cell_type": "code",
   "execution_count": 11,
   "id": "0fe37f97-61ad-493e-a1b2-068bf45a4aed",
   "metadata": {},
   "outputs": [
    {
     "data": {
      "text/plain": [
       "(4803, 20)"
      ]
     },
     "execution_count": 11,
     "metadata": {},
     "output_type": "execute_result"
    }
   ],
   "source": [
    "movie.shape"
   ]
  },
  {
   "cell_type": "code",
   "execution_count": 12,
   "id": "28650686-37d5-46da-8cb4-3767672f9bb7",
   "metadata": {},
   "outputs": [],
   "source": [
    "movies=movie.merge(credit, on='title')"
   ]
  },
  {
   "cell_type": "code",
   "execution_count": 13,
   "id": "b502ec08-727a-4325-b4a3-d7924955c98a",
   "metadata": {},
   "outputs": [
    {
     "data": {
      "text/plain": [
       "(4809, 23)"
      ]
     },
     "execution_count": 13,
     "metadata": {},
     "output_type": "execute_result"
    }
   ],
   "source": [
    "movie.merge(credit, on='title').shape"
   ]
  },
  {
   "cell_type": "code",
   "execution_count": 14,
   "id": "a5f3d3b0-1204-4160-a07b-39dfc0c1877f",
   "metadata": {},
   "outputs": [
    {
     "data": {
      "text/html": [
       "<div>\n",
       "<style scoped>\n",
       "    .dataframe tbody tr th:only-of-type {\n",
       "        vertical-align: middle;\n",
       "    }\n",
       "\n",
       "    .dataframe tbody tr th {\n",
       "        vertical-align: top;\n",
       "    }\n",
       "\n",
       "    .dataframe thead th {\n",
       "        text-align: right;\n",
       "    }\n",
       "</style>\n",
       "<table border=\"1\" class=\"dataframe\">\n",
       "  <thead>\n",
       "    <tr style=\"text-align: right;\">\n",
       "      <th></th>\n",
       "      <th>budget</th>\n",
       "      <th>genres</th>\n",
       "      <th>homepage</th>\n",
       "      <th>id</th>\n",
       "      <th>keywords</th>\n",
       "      <th>original_language</th>\n",
       "      <th>original_title</th>\n",
       "      <th>overview</th>\n",
       "      <th>popularity</th>\n",
       "      <th>production_companies</th>\n",
       "      <th>...</th>\n",
       "      <th>runtime</th>\n",
       "      <th>spoken_languages</th>\n",
       "      <th>status</th>\n",
       "      <th>tagline</th>\n",
       "      <th>title</th>\n",
       "      <th>vote_average</th>\n",
       "      <th>vote_count</th>\n",
       "      <th>movie_id</th>\n",
       "      <th>cast</th>\n",
       "      <th>crew</th>\n",
       "    </tr>\n",
       "  </thead>\n",
       "  <tbody>\n",
       "    <tr>\n",
       "      <th>0</th>\n",
       "      <td>237000000</td>\n",
       "      <td>[{\"id\": 28, \"name\": \"Action\"}, {\"id\": 12, \"nam...</td>\n",
       "      <td>http://www.avatarmovie.com/</td>\n",
       "      <td>19995</td>\n",
       "      <td>[{\"id\": 1463, \"name\": \"culture clash\"}, {\"id\":...</td>\n",
       "      <td>en</td>\n",
       "      <td>Avatar</td>\n",
       "      <td>In the 22nd century, a paraplegic Marine is di...</td>\n",
       "      <td>150.437577</td>\n",
       "      <td>[{\"name\": \"Ingenious Film Partners\", \"id\": 289...</td>\n",
       "      <td>...</td>\n",
       "      <td>162.0</td>\n",
       "      <td>[{\"iso_639_1\": \"en\", \"name\": \"English\"}, {\"iso...</td>\n",
       "      <td>Released</td>\n",
       "      <td>Enter the World of Pandora.</td>\n",
       "      <td>Avatar</td>\n",
       "      <td>7.2</td>\n",
       "      <td>11800</td>\n",
       "      <td>19995</td>\n",
       "      <td>[{\"cast_id\": 242, \"character\": \"Jake Sully\", \"...</td>\n",
       "      <td>[{\"credit_id\": \"52fe48009251416c750aca23\", \"de...</td>\n",
       "    </tr>\n",
       "  </tbody>\n",
       "</table>\n",
       "<p>1 rows × 23 columns</p>\n",
       "</div>"
      ],
      "text/plain": [
       "      budget                                             genres  \\\n",
       "0  237000000  [{\"id\": 28, \"name\": \"Action\"}, {\"id\": 12, \"nam...   \n",
       "\n",
       "                      homepage     id  \\\n",
       "0  http://www.avatarmovie.com/  19995   \n",
       "\n",
       "                                            keywords original_language  \\\n",
       "0  [{\"id\": 1463, \"name\": \"culture clash\"}, {\"id\":...                en   \n",
       "\n",
       "  original_title                                           overview  \\\n",
       "0         Avatar  In the 22nd century, a paraplegic Marine is di...   \n",
       "\n",
       "   popularity                               production_companies  ... runtime  \\\n",
       "0  150.437577  [{\"name\": \"Ingenious Film Partners\", \"id\": 289...  ...   162.0   \n",
       "\n",
       "                                    spoken_languages    status  \\\n",
       "0  [{\"iso_639_1\": \"en\", \"name\": \"English\"}, {\"iso...  Released   \n",
       "\n",
       "                       tagline   title vote_average vote_count movie_id  \\\n",
       "0  Enter the World of Pandora.  Avatar          7.2      11800    19995   \n",
       "\n",
       "                                                cast  \\\n",
       "0  [{\"cast_id\": 242, \"character\": \"Jake Sully\", \"...   \n",
       "\n",
       "                                                crew  \n",
       "0  [{\"credit_id\": \"52fe48009251416c750aca23\", \"de...  \n",
       "\n",
       "[1 rows x 23 columns]"
      ]
     },
     "execution_count": 14,
     "metadata": {},
     "output_type": "execute_result"
    }
   ],
   "source": [
    "movies.head(1)"
   ]
  },
  {
   "cell_type": "code",
   "execution_count": 15,
   "id": "874f68ac-bf4d-4c6f-971b-9048eadb96b4",
   "metadata": {},
   "outputs": [
    {
     "data": {
      "text/plain": [
       "budget                     0\n",
       "genres                     0\n",
       "homepage                3096\n",
       "id                         0\n",
       "keywords                   0\n",
       "original_language          0\n",
       "original_title             0\n",
       "overview                   3\n",
       "popularity                 0\n",
       "production_companies       0\n",
       "production_countries       0\n",
       "release_date               1\n",
       "revenue                    0\n",
       "runtime                    2\n",
       "spoken_languages           0\n",
       "status                     0\n",
       "tagline                  844\n",
       "title                      0\n",
       "vote_average               0\n",
       "vote_count                 0\n",
       "movie_id                   0\n",
       "cast                       0\n",
       "crew                       0\n",
       "dtype: int64"
      ]
     },
     "execution_count": 15,
     "metadata": {},
     "output_type": "execute_result"
    }
   ],
   "source": [
    "movies.isna().sum()"
   ]
  },
  {
   "cell_type": "code",
   "execution_count": 16,
   "id": "8f6a7ca2-e21c-4bf9-b4ba-78e84c55307d",
   "metadata": {},
   "outputs": [
    {
     "data": {
      "text/plain": [
       "budget                     0\n",
       "genres                     0\n",
       "homepage                3096\n",
       "id                         0\n",
       "keywords                   0\n",
       "original_language          0\n",
       "original_title             0\n",
       "overview                   3\n",
       "popularity                 0\n",
       "production_companies       0\n",
       "production_countries       0\n",
       "release_date               1\n",
       "revenue                    0\n",
       "runtime                    2\n",
       "spoken_languages           0\n",
       "status                     0\n",
       "tagline                  844\n",
       "title                      0\n",
       "vote_average               0\n",
       "vote_count                 0\n",
       "movie_id                   0\n",
       "cast                       0\n",
       "crew                       0\n",
       "dtype: int64"
      ]
     },
     "execution_count": 16,
     "metadata": {},
     "output_type": "execute_result"
    }
   ],
   "source": [
    "movies.isnull().sum()"
   ]
  },
  {
   "cell_type": "code",
   "execution_count": 17,
   "id": "5ce59147-256a-4c58-86c7-9e9842f8765d",
   "metadata": {},
   "outputs": [],
   "source": [
    "movies_copy=movies.copy()"
   ]
  },
  {
   "cell_type": "code",
   "execution_count": 18,
   "id": "bd2e6632-59c9-460d-96da-f3a5b01d846b",
   "metadata": {},
   "outputs": [],
   "source": [
    "movies.dropna(inplace=True)"
   ]
  },
  {
   "cell_type": "code",
   "execution_count": 19,
   "id": "5aaffcc0-a32e-436e-9239-bed014fbe344",
   "metadata": {},
   "outputs": [],
   "source": [
    "movies=movies[['movie_id','title','overview','genres','keywords','cast','crew']]"
   ]
  },
  {
   "cell_type": "code",
   "execution_count": 20,
   "id": "eac4c3df-6564-4156-8608-13ce242790e3",
   "metadata": {},
   "outputs": [],
   "source": [
    "# movies[['movie_id','title','overview','genres','keywords','cast','crew']]"
   ]
  },
  {
   "cell_type": "code",
   "execution_count": 21,
   "id": "13430247-1b97-4621-8c83-1cbc1049b5ab",
   "metadata": {},
   "outputs": [
    {
     "data": {
      "text/html": [
       "<div>\n",
       "<style scoped>\n",
       "    .dataframe tbody tr th:only-of-type {\n",
       "        vertical-align: middle;\n",
       "    }\n",
       "\n",
       "    .dataframe tbody tr th {\n",
       "        vertical-align: top;\n",
       "    }\n",
       "\n",
       "    .dataframe thead th {\n",
       "        text-align: right;\n",
       "    }\n",
       "</style>\n",
       "<table border=\"1\" class=\"dataframe\">\n",
       "  <thead>\n",
       "    <tr style=\"text-align: right;\">\n",
       "      <th></th>\n",
       "      <th>movie_id</th>\n",
       "      <th>title</th>\n",
       "      <th>overview</th>\n",
       "      <th>genres</th>\n",
       "      <th>keywords</th>\n",
       "      <th>cast</th>\n",
       "      <th>crew</th>\n",
       "    </tr>\n",
       "  </thead>\n",
       "  <tbody>\n",
       "    <tr>\n",
       "      <th>0</th>\n",
       "      <td>19995</td>\n",
       "      <td>Avatar</td>\n",
       "      <td>In the 22nd century, a paraplegic Marine is di...</td>\n",
       "      <td>[{\"id\": 28, \"name\": \"Action\"}, {\"id\": 12, \"nam...</td>\n",
       "      <td>[{\"id\": 1463, \"name\": \"culture clash\"}, {\"id\":...</td>\n",
       "      <td>[{\"cast_id\": 242, \"character\": \"Jake Sully\", \"...</td>\n",
       "      <td>[{\"credit_id\": \"52fe48009251416c750aca23\", \"de...</td>\n",
       "    </tr>\n",
       "    <tr>\n",
       "      <th>1</th>\n",
       "      <td>285</td>\n",
       "      <td>Pirates of the Caribbean: At World's End</td>\n",
       "      <td>Captain Barbossa, long believed to be dead, ha...</td>\n",
       "      <td>[{\"id\": 12, \"name\": \"Adventure\"}, {\"id\": 14, \"...</td>\n",
       "      <td>[{\"id\": 270, \"name\": \"ocean\"}, {\"id\": 726, \"na...</td>\n",
       "      <td>[{\"cast_id\": 4, \"character\": \"Captain Jack Spa...</td>\n",
       "      <td>[{\"credit_id\": \"52fe4232c3a36847f800b579\", \"de...</td>\n",
       "    </tr>\n",
       "  </tbody>\n",
       "</table>\n",
       "</div>"
      ],
      "text/plain": [
       "   movie_id                                     title  \\\n",
       "0     19995                                    Avatar   \n",
       "1       285  Pirates of the Caribbean: At World's End   \n",
       "\n",
       "                                            overview  \\\n",
       "0  In the 22nd century, a paraplegic Marine is di...   \n",
       "1  Captain Barbossa, long believed to be dead, ha...   \n",
       "\n",
       "                                              genres  \\\n",
       "0  [{\"id\": 28, \"name\": \"Action\"}, {\"id\": 12, \"nam...   \n",
       "1  [{\"id\": 12, \"name\": \"Adventure\"}, {\"id\": 14, \"...   \n",
       "\n",
       "                                            keywords  \\\n",
       "0  [{\"id\": 1463, \"name\": \"culture clash\"}, {\"id\":...   \n",
       "1  [{\"id\": 270, \"name\": \"ocean\"}, {\"id\": 726, \"na...   \n",
       "\n",
       "                                                cast  \\\n",
       "0  [{\"cast_id\": 242, \"character\": \"Jake Sully\", \"...   \n",
       "1  [{\"cast_id\": 4, \"character\": \"Captain Jack Spa...   \n",
       "\n",
       "                                                crew  \n",
       "0  [{\"credit_id\": \"52fe48009251416c750aca23\", \"de...  \n",
       "1  [{\"credit_id\": \"52fe4232c3a36847f800b579\", \"de...  "
      ]
     },
     "execution_count": 21,
     "metadata": {},
     "output_type": "execute_result"
    }
   ],
   "source": [
    "movies.head(2)"
   ]
  },
  {
   "cell_type": "code",
   "execution_count": 22,
   "id": "84f901ec-1f0f-4ede-bc89-ca7d08c1bd68",
   "metadata": {},
   "outputs": [],
   "source": [
    "movies.dropna(inplace=True)"
   ]
  },
  {
   "cell_type": "code",
   "execution_count": 23,
   "id": "4341eaf2-bd82-4444-a123-8105f88b23c5",
   "metadata": {},
   "outputs": [
    {
     "data": {
      "text/plain": [
       "movie_id    0\n",
       "title       0\n",
       "overview    0\n",
       "genres      0\n",
       "keywords    0\n",
       "cast        0\n",
       "crew        0\n",
       "dtype: int64"
      ]
     },
     "execution_count": 23,
     "metadata": {},
     "output_type": "execute_result"
    }
   ],
   "source": [
    "movies.isna().sum()"
   ]
  },
  {
   "cell_type": "code",
   "execution_count": 24,
   "id": "66a4c5e5-787e-4c2b-9443-b49c39f07c4e",
   "metadata": {},
   "outputs": [
    {
     "data": {
      "text/plain": [
       "0"
      ]
     },
     "execution_count": 24,
     "metadata": {},
     "output_type": "execute_result"
    }
   ],
   "source": [
    "movies.duplicated().sum()"
   ]
  },
  {
   "cell_type": "code",
   "execution_count": 25,
   "id": "6885b557-0198-4292-b8cb-b0e980b1f536",
   "metadata": {},
   "outputs": [
    {
     "data": {
      "text/plain": [
       "'[{\"id\": 28, \"name\": \"Action\"}, {\"id\": 12, \"name\": \"Adventure\"}, {\"id\": 14, \"name\": \"Fantasy\"}, {\"id\": 878, \"name\": \"Science Fiction\"}]'"
      ]
     },
     "execution_count": 25,
     "metadata": {},
     "output_type": "execute_result"
    }
   ],
   "source": [
    "movies.iloc[0].genres"
   ]
  },
  {
   "cell_type": "code",
   "execution_count": 26,
   "id": "61202fea-5d1c-4460-96cd-9078e519938b",
   "metadata": {},
   "outputs": [
    {
     "data": {
      "text/plain": [
       "[{'id': 28, 'name': 'Action'},\n",
       " {'id': 12, 'name': 'Adventure'},\n",
       " {'id': 14, 'name': 'Fantasy'},\n",
       " {'id': 878, 'name': 'Science Fiction'}]"
      ]
     },
     "execution_count": 26,
     "metadata": {},
     "output_type": "execute_result"
    }
   ],
   "source": [
    "import ast\n",
    "ast.literal_eval('[{\"id\": 28, \"name\": \"Action\"}, {\"id\": 12, \"name\": \"Adventure\"}, {\"id\": 14, \"name\": \"Fantasy\"}, {\"id\": 878, \"name\": \"Science Fiction\"}]')\n",
    "# convert('[{\"id\": 28, \"name\": \"Action\"}, {\"id\": 12, \"name\": \"Adventure\"}, {\"id\": 14, \"name\": \"Fantasy\"}, {\"id\": 878, \"name\": \"Science Fiction\"}]')"
   ]
  },
  {
   "cell_type": "code",
   "execution_count": 27,
   "id": "b542e693-80b0-4967-b0fa-38015f64c06a",
   "metadata": {},
   "outputs": [],
   "source": [
    "def convert(obj):\n",
    "    L = []\n",
    "    for i in ast.literal_eval(obj):\n",
    "        L.append(i['name'])\n",
    "    return L"
   ]
  },
  {
   "cell_type": "code",
   "execution_count": 28,
   "id": "59d8901b-9123-4892-a267-cb5efa7725ba",
   "metadata": {},
   "outputs": [],
   "source": [
    "import pandas as pd\n",
    "import ast\n",
    "\n",
    "# Define the convert function with enhanced error handling\n",
    "def convert(obj):\n",
    "    try:\n",
    "        # If the input is a string, try to parse it\n",
    "        if isinstance(obj, str):\n",
    "            obj = ast.literal_eval(obj)\n",
    "        \n",
    "        # Check if the parsed object is a list\n",
    "        if isinstance(obj, list):\n",
    "            # Extract 'name' if the elements are dictionaries, otherwise keep the element\n",
    "            return [item['name'] if isinstance(item, dict) and 'name' in item else item for item in obj]\n",
    "        else:\n",
    "            print(f\"Unexpected format: {obj}\")\n",
    "            return []\n",
    "    except (ValueError, SyntaxError, KeyError, TypeError) as e:\n",
    "        print(f\"Error parsing input: {e}\")\n",
    "        return []\n",
    "\n",
    "\n",
    "\n",
    "# Apply the convert function to the 'genres' column\n",
    "movies['genres'] = movies['genres'].apply(convert)\n"
   ]
  },
  {
   "cell_type": "code",
   "execution_count": 29,
   "id": "6989e0b4-48f5-4849-a47c-b90ea9a60810",
   "metadata": {},
   "outputs": [
    {
     "data": {
      "text/plain": [
       "0       [Action, Adventure, Fantasy, Science Fiction]\n",
       "1                        [Adventure, Fantasy, Action]\n",
       "2                          [Action, Adventure, Crime]\n",
       "3                    [Action, Crime, Drama, Thriller]\n",
       "4                [Action, Adventure, Science Fiction]\n",
       "                            ...                      \n",
       "4779                                         [Comedy]\n",
       "4787                                [Comedy, Romance]\n",
       "4797                                         [Horror]\n",
       "4802               [Science Fiction, Drama, Thriller]\n",
       "4807                                               []\n",
       "Name: genres, Length: 1494, dtype: object"
      ]
     },
     "execution_count": 29,
     "metadata": {},
     "output_type": "execute_result"
    }
   ],
   "source": [
    "movies['genres'].apply(convert)"
   ]
  },
  {
   "cell_type": "code",
   "execution_count": 30,
   "id": "bb7ef3ed-c967-40b3-9546-36f78e0d237b",
   "metadata": {},
   "outputs": [],
   "source": [
    "# movies['genres']=movies['genres'].apply(convert)"
   ]
  },
  {
   "cell_type": "code",
   "execution_count": 31,
   "id": "d3e6364b-a6a1-4852-8c6f-95c7d6368139",
   "metadata": {},
   "outputs": [],
   "source": [
    "# movies['overview']=movies['overview'].apply(convert)"
   ]
  },
  {
   "cell_type": "code",
   "execution_count": 32,
   "id": "b78ff675-d794-461f-ac2d-b7eb548337da",
   "metadata": {},
   "outputs": [],
   "source": [
    "movies['keywords']=movies['keywords'].apply(convert)"
   ]
  },
  {
   "cell_type": "code",
   "execution_count": 33,
   "id": "cfda3905-5ab7-41ca-bbad-3802623d7bbc",
   "metadata": {},
   "outputs": [
    {
     "data": {
      "text/plain": [
       "'[{\"cast_id\": 242, \"character\": \"Jake Sully\", \"credit_id\": \"5602a8a7c3a3685532001c9a\", \"gender\": 2, \"id\": 65731, \"name\": \"Sam Worthington\", \"order\": 0}, {\"cast_id\": 3, \"character\": \"Neytiri\", \"credit_id\": \"52fe48009251416c750ac9cb\", \"gender\": 1, \"id\": 8691, \"name\": \"Zoe Saldana\", \"order\": 1}, {\"cast_id\": 25, \"character\": \"Dr. Grace Augustine\", \"credit_id\": \"52fe48009251416c750aca39\", \"gender\": 1, \"id\": 10205, \"name\": \"Sigourney Weaver\", \"order\": 2}, {\"cast_id\": 4, \"character\": \"Col. Quaritch\", \"credit_id\": \"52fe48009251416c750ac9cf\", \"gender\": 2, \"id\": 32747, \"name\": \"Stephen Lang\", \"order\": 3}, {\"cast_id\": 5, \"character\": \"Trudy Chacon\", \"credit_id\": \"52fe48009251416c750ac9d3\", \"gender\": 1, \"id\": 17647, \"name\": \"Michelle Rodriguez\", \"order\": 4}, {\"cast_id\": 8, \"character\": \"Selfridge\", \"credit_id\": \"52fe48009251416c750ac9e1\", \"gender\": 2, \"id\": 1771, \"name\": \"Giovanni Ribisi\", \"order\": 5}, {\"cast_id\": 7, \"character\": \"Norm Spellman\", \"credit_id\": \"52fe48009251416c750ac9dd\", \"gender\": 2, \"id\": 59231, \"name\": \"Joel David Moore\", \"order\": 6}, {\"cast_id\": 9, \"character\": \"Moat\", \"credit_id\": \"52fe48009251416c750ac9e5\", \"gender\": 1, \"id\": 30485, \"name\": \"CCH Pounder\", \"order\": 7}, {\"cast_id\": 11, \"character\": \"Eytukan\", \"credit_id\": \"52fe48009251416c750ac9ed\", \"gender\": 2, \"id\": 15853, \"name\": \"Wes Studi\", \"order\": 8}, {\"cast_id\": 10, \"character\": \"Tsu\\'Tey\", \"credit_id\": \"52fe48009251416c750ac9e9\", \"gender\": 2, \"id\": 10964, \"name\": \"Laz Alonso\", \"order\": 9}, {\"cast_id\": 12, \"character\": \"Dr. Max Patel\", \"credit_id\": \"52fe48009251416c750ac9f1\", \"gender\": 2, \"id\": 95697, \"name\": \"Dileep Rao\", \"order\": 10}, {\"cast_id\": 13, \"character\": \"Lyle Wainfleet\", \"credit_id\": \"52fe48009251416c750ac9f5\", \"gender\": 2, \"id\": 98215, \"name\": \"Matt Gerald\", \"order\": 11}, {\"cast_id\": 32, \"character\": \"Private Fike\", \"credit_id\": \"52fe48009251416c750aca5b\", \"gender\": 2, \"id\": 154153, \"name\": \"Sean Anthony Moran\", \"order\": 12}, {\"cast_id\": 33, \"character\": \"Cryo Vault Med Tech\", \"credit_id\": \"52fe48009251416c750aca5f\", \"gender\": 2, \"id\": 397312, \"name\": \"Jason Whyte\", \"order\": 13}, {\"cast_id\": 34, \"character\": \"Venture Star Crew Chief\", \"credit_id\": \"52fe48009251416c750aca63\", \"gender\": 2, \"id\": 42317, \"name\": \"Scott Lawrence\", \"order\": 14}, {\"cast_id\": 35, \"character\": \"Lock Up Trooper\", \"credit_id\": \"52fe48009251416c750aca67\", \"gender\": 2, \"id\": 986734, \"name\": \"Kelly Kilgour\", \"order\": 15}, {\"cast_id\": 36, \"character\": \"Shuttle Pilot\", \"credit_id\": \"52fe48009251416c750aca6b\", \"gender\": 0, \"id\": 1207227, \"name\": \"James Patrick Pitt\", \"order\": 16}, {\"cast_id\": 37, \"character\": \"Shuttle Co-Pilot\", \"credit_id\": \"52fe48009251416c750aca6f\", \"gender\": 0, \"id\": 1180936, \"name\": \"Sean Patrick Murphy\", \"order\": 17}, {\"cast_id\": 38, \"character\": \"Shuttle Crew Chief\", \"credit_id\": \"52fe48009251416c750aca73\", \"gender\": 2, \"id\": 1019578, \"name\": \"Peter Dillon\", \"order\": 18}, {\"cast_id\": 39, \"character\": \"Tractor Operator / Troupe\", \"credit_id\": \"52fe48009251416c750aca77\", \"gender\": 0, \"id\": 91443, \"name\": \"Kevin Dorman\", \"order\": 19}, {\"cast_id\": 40, \"character\": \"Dragon Gunship Pilot\", \"credit_id\": \"52fe48009251416c750aca7b\", \"gender\": 2, \"id\": 173391, \"name\": \"Kelson Henderson\", \"order\": 20}, {\"cast_id\": 41, \"character\": \"Dragon Gunship Gunner\", \"credit_id\": \"52fe48009251416c750aca7f\", \"gender\": 0, \"id\": 1207236, \"name\": \"David Van Horn\", \"order\": 21}, {\"cast_id\": 42, \"character\": \"Dragon Gunship Navigator\", \"credit_id\": \"52fe48009251416c750aca83\", \"gender\": 0, \"id\": 215913, \"name\": \"Jacob Tomuri\", \"order\": 22}, {\"cast_id\": 43, \"character\": \"Suit #1\", \"credit_id\": \"52fe48009251416c750aca87\", \"gender\": 0, \"id\": 143206, \"name\": \"Michael Blain-Rozgay\", \"order\": 23}, {\"cast_id\": 44, \"character\": \"Suit #2\", \"credit_id\": \"52fe48009251416c750aca8b\", \"gender\": 2, \"id\": 169676, \"name\": \"Jon Curry\", \"order\": 24}, {\"cast_id\": 46, \"character\": \"Ambient Room Tech\", \"credit_id\": \"52fe48009251416c750aca8f\", \"gender\": 0, \"id\": 1048610, \"name\": \"Luke Hawker\", \"order\": 25}, {\"cast_id\": 47, \"character\": \"Ambient Room Tech / Troupe\", \"credit_id\": \"52fe48009251416c750aca93\", \"gender\": 0, \"id\": 42288, \"name\": \"Woody Schultz\", \"order\": 26}, {\"cast_id\": 48, \"character\": \"Horse Clan Leader\", \"credit_id\": \"52fe48009251416c750aca97\", \"gender\": 2, \"id\": 68278, \"name\": \"Peter Mensah\", \"order\": 27}, {\"cast_id\": 49, \"character\": \"Link Room Tech\", \"credit_id\": \"52fe48009251416c750aca9b\", \"gender\": 0, \"id\": 1207247, \"name\": \"Sonia Yee\", \"order\": 28}, {\"cast_id\": 50, \"character\": \"Basketball Avatar / Troupe\", \"credit_id\": \"52fe48009251416c750aca9f\", \"gender\": 1, \"id\": 1207248, \"name\": \"Jahnel Curfman\", \"order\": 29}, {\"cast_id\": 51, \"character\": \"Basketball Avatar\", \"credit_id\": \"52fe48009251416c750acaa3\", \"gender\": 0, \"id\": 89714, \"name\": \"Ilram Choi\", \"order\": 30}, {\"cast_id\": 52, \"character\": \"Na\\'vi Child\", \"credit_id\": \"52fe48009251416c750acaa7\", \"gender\": 0, \"id\": 1207249, \"name\": \"Kyla Warren\", \"order\": 31}, {\"cast_id\": 53, \"character\": \"Troupe\", \"credit_id\": \"52fe48009251416c750acaab\", \"gender\": 0, \"id\": 1207250, \"name\": \"Lisa Roumain\", \"order\": 32}, {\"cast_id\": 54, \"character\": \"Troupe\", \"credit_id\": \"52fe48009251416c750acaaf\", \"gender\": 1, \"id\": 83105, \"name\": \"Debra Wilson\", \"order\": 33}, {\"cast_id\": 57, \"character\": \"Troupe\", \"credit_id\": \"52fe48009251416c750acabb\", \"gender\": 0, \"id\": 1207253, \"name\": \"Chris Mala\", \"order\": 34}, {\"cast_id\": 55, \"character\": \"Troupe\", \"credit_id\": \"52fe48009251416c750acab3\", \"gender\": 0, \"id\": 1207251, \"name\": \"Taylor Kibby\", \"order\": 35}, {\"cast_id\": 56, \"character\": \"Troupe\", \"credit_id\": \"52fe48009251416c750acab7\", \"gender\": 0, \"id\": 1207252, \"name\": \"Jodie Landau\", \"order\": 36}, {\"cast_id\": 58, \"character\": \"Troupe\", \"credit_id\": \"52fe48009251416c750acabf\", \"gender\": 0, \"id\": 1207254, \"name\": \"Julie Lamm\", \"order\": 37}, {\"cast_id\": 59, \"character\": \"Troupe\", \"credit_id\": \"52fe48009251416c750acac3\", \"gender\": 0, \"id\": 1207257, \"name\": \"Cullen B. Madden\", \"order\": 38}, {\"cast_id\": 60, \"character\": \"Troupe\", \"credit_id\": \"52fe48009251416c750acac7\", \"gender\": 0, \"id\": 1207259, \"name\": \"Joseph Brady Madden\", \"order\": 39}, {\"cast_id\": 61, \"character\": \"Troupe\", \"credit_id\": \"52fe48009251416c750acacb\", \"gender\": 0, \"id\": 1207262, \"name\": \"Frankie Torres\", \"order\": 40}, {\"cast_id\": 62, \"character\": \"Troupe\", \"credit_id\": \"52fe48009251416c750acacf\", \"gender\": 1, \"id\": 1158600, \"name\": \"Austin Wilson\", \"order\": 41}, {\"cast_id\": 63, \"character\": \"Troupe\", \"credit_id\": \"52fe48019251416c750acad3\", \"gender\": 1, \"id\": 983705, \"name\": \"Sara Wilson\", \"order\": 42}, {\"cast_id\": 64, \"character\": \"Troupe\", \"credit_id\": \"52fe48019251416c750acad7\", \"gender\": 0, \"id\": 1207263, \"name\": \"Tamica Washington-Miller\", \"order\": 43}, {\"cast_id\": 65, \"character\": \"Op Center Staff\", \"credit_id\": \"52fe48019251416c750acadb\", \"gender\": 1, \"id\": 1145098, \"name\": \"Lucy Briant\", \"order\": 44}, {\"cast_id\": 66, \"character\": \"Op Center Staff\", \"credit_id\": \"52fe48019251416c750acadf\", \"gender\": 2, \"id\": 33305, \"name\": \"Nathan Meister\", \"order\": 45}, {\"cast_id\": 67, \"character\": \"Op Center Staff\", \"credit_id\": \"52fe48019251416c750acae3\", \"gender\": 0, \"id\": 1207264, \"name\": \"Gerry Blair\", \"order\": 46}, {\"cast_id\": 68, \"character\": \"Op Center Staff\", \"credit_id\": \"52fe48019251416c750acae7\", \"gender\": 2, \"id\": 33311, \"name\": \"Matthew Chamberlain\", \"order\": 47}, {\"cast_id\": 69, \"character\": \"Op Center Staff\", \"credit_id\": \"52fe48019251416c750acaeb\", \"gender\": 0, \"id\": 1207265, \"name\": \"Paul Yates\", \"order\": 48}, {\"cast_id\": 70, \"character\": \"Op Center Duty Officer\", \"credit_id\": \"52fe48019251416c750acaef\", \"gender\": 0, \"id\": 1207266, \"name\": \"Wray Wilson\", \"order\": 49}, {\"cast_id\": 71, \"character\": \"Op Center Staff\", \"credit_id\": \"52fe48019251416c750acaf3\", \"gender\": 2, \"id\": 54492, \"name\": \"James Gaylyn\", \"order\": 50}, {\"cast_id\": 72, \"character\": \"Dancer\", \"credit_id\": \"52fe48019251416c750acaf7\", \"gender\": 0, \"id\": 1207267, \"name\": \"Melvin Leno Clark III\", \"order\": 51}, {\"cast_id\": 73, \"character\": \"Dancer\", \"credit_id\": \"52fe48019251416c750acafb\", \"gender\": 0, \"id\": 1207268, \"name\": \"Carvon Futrell\", \"order\": 52}, {\"cast_id\": 74, \"character\": \"Dancer\", \"credit_id\": \"52fe48019251416c750acaff\", \"gender\": 0, \"id\": 1207269, \"name\": \"Brandon Jelkes\", \"order\": 53}, {\"cast_id\": 75, \"character\": \"Dancer\", \"credit_id\": \"52fe48019251416c750acb03\", \"gender\": 0, \"id\": 1207270, \"name\": \"Micah Moch\", \"order\": 54}, {\"cast_id\": 76, \"character\": \"Dancer\", \"credit_id\": \"52fe48019251416c750acb07\", \"gender\": 0, \"id\": 1207271, \"name\": \"Hanniyah Muhammad\", \"order\": 55}, {\"cast_id\": 77, \"character\": \"Dancer\", \"credit_id\": \"52fe48019251416c750acb0b\", \"gender\": 0, \"id\": 1207272, \"name\": \"Christopher Nolen\", \"order\": 56}, {\"cast_id\": 78, \"character\": \"Dancer\", \"credit_id\": \"52fe48019251416c750acb0f\", \"gender\": 0, \"id\": 1207273, \"name\": \"Christa Oliver\", \"order\": 57}, {\"cast_id\": 79, \"character\": \"Dancer\", \"credit_id\": \"52fe48019251416c750acb13\", \"gender\": 0, \"id\": 1207274, \"name\": \"April Marie Thomas\", \"order\": 58}, {\"cast_id\": 80, \"character\": \"Dancer\", \"credit_id\": \"52fe48019251416c750acb17\", \"gender\": 0, \"id\": 1207275, \"name\": \"Bravita A. Threatt\", \"order\": 59}, {\"cast_id\": 81, \"character\": \"Mining Chief (uncredited)\", \"credit_id\": \"52fe48019251416c750acb1b\", \"gender\": 0, \"id\": 1207276, \"name\": \"Colin Bleasdale\", \"order\": 60}, {\"cast_id\": 82, \"character\": \"Veteran Miner (uncredited)\", \"credit_id\": \"52fe48019251416c750acb1f\", \"gender\": 0, \"id\": 107969, \"name\": \"Mike Bodnar\", \"order\": 61}, {\"cast_id\": 83, \"character\": \"Richard (uncredited)\", \"credit_id\": \"52fe48019251416c750acb23\", \"gender\": 0, \"id\": 1207278, \"name\": \"Matt Clayton\", \"order\": 62}, {\"cast_id\": 84, \"character\": \"Nav\\'i (uncredited)\", \"credit_id\": \"52fe48019251416c750acb27\", \"gender\": 1, \"id\": 147898, \"name\": \"Nicole Dionne\", \"order\": 63}, {\"cast_id\": 85, \"character\": \"Trooper (uncredited)\", \"credit_id\": \"52fe48019251416c750acb2b\", \"gender\": 0, \"id\": 1207280, \"name\": \"Jamie Harrison\", \"order\": 64}, {\"cast_id\": 86, \"character\": \"Trooper (uncredited)\", \"credit_id\": \"52fe48019251416c750acb2f\", \"gender\": 0, \"id\": 1207281, \"name\": \"Allan Henry\", \"order\": 65}, {\"cast_id\": 87, \"character\": \"Ground Technician (uncredited)\", \"credit_id\": \"52fe48019251416c750acb33\", \"gender\": 2, \"id\": 1207282, \"name\": \"Anthony Ingruber\", \"order\": 66}, {\"cast_id\": 88, \"character\": \"Flight Crew Mechanic (uncredited)\", \"credit_id\": \"52fe48019251416c750acb37\", \"gender\": 0, \"id\": 1207283, \"name\": \"Ashley Jeffery\", \"order\": 67}, {\"cast_id\": 14, \"character\": \"Samson Pilot\", \"credit_id\": \"52fe48009251416c750ac9f9\", \"gender\": 0, \"id\": 98216, \"name\": \"Dean Knowsley\", \"order\": 68}, {\"cast_id\": 89, \"character\": \"Trooper (uncredited)\", \"credit_id\": \"52fe48019251416c750acb3b\", \"gender\": 0, \"id\": 1201399, \"name\": \"Joseph Mika-Hunt\", \"order\": 69}, {\"cast_id\": 90, \"character\": \"Banshee (uncredited)\", \"credit_id\": \"52fe48019251416c750acb3f\", \"gender\": 0, \"id\": 236696, \"name\": \"Terry Notary\", \"order\": 70}, {\"cast_id\": 91, \"character\": \"Soldier (uncredited)\", \"credit_id\": \"52fe48019251416c750acb43\", \"gender\": 0, \"id\": 1207287, \"name\": \"Kai Pantano\", \"order\": 71}, {\"cast_id\": 92, \"character\": \"Blast Technician (uncredited)\", \"credit_id\": \"52fe48019251416c750acb47\", \"gender\": 0, \"id\": 1207288, \"name\": \"Logan Pithyou\", \"order\": 72}, {\"cast_id\": 93, \"character\": \"Vindum Raah (uncredited)\", \"credit_id\": \"52fe48019251416c750acb4b\", \"gender\": 0, \"id\": 1207289, \"name\": \"Stuart Pollock\", \"order\": 73}, {\"cast_id\": 94, \"character\": \"Hero (uncredited)\", \"credit_id\": \"52fe48019251416c750acb4f\", \"gender\": 0, \"id\": 584868, \"name\": \"Raja\", \"order\": 74}, {\"cast_id\": 95, \"character\": \"Ops Centreworker (uncredited)\", \"credit_id\": \"52fe48019251416c750acb53\", \"gender\": 0, \"id\": 1207290, \"name\": \"Gareth Ruck\", \"order\": 75}, {\"cast_id\": 96, \"character\": \"Engineer (uncredited)\", \"credit_id\": \"52fe48019251416c750acb57\", \"gender\": 0, \"id\": 1062463, \"name\": \"Rhian Sheehan\", \"order\": 76}, {\"cast_id\": 97, \"character\": \"Col. Quaritch\\'s Mech Suit (uncredited)\", \"credit_id\": \"52fe48019251416c750acb5b\", \"gender\": 0, \"id\": 60656, \"name\": \"T. J. Storm\", \"order\": 77}, {\"cast_id\": 98, \"character\": \"Female Marine (uncredited)\", \"credit_id\": \"52fe48019251416c750acb5f\", \"gender\": 0, \"id\": 1207291, \"name\": \"Jodie Taylor\", \"order\": 78}, {\"cast_id\": 99, \"character\": \"Ikran Clan Leader (uncredited)\", \"credit_id\": \"52fe48019251416c750acb63\", \"gender\": 1, \"id\": 1186027, \"name\": \"Alicia Vela-Bailey\", \"order\": 79}, {\"cast_id\": 100, \"character\": \"Geologist (uncredited)\", \"credit_id\": \"52fe48019251416c750acb67\", \"gender\": 0, \"id\": 1207292, \"name\": \"Richard Whiteside\", \"order\": 80}, {\"cast_id\": 101, \"character\": \"Na\\'vi (uncredited)\", \"credit_id\": \"52fe48019251416c750acb6b\", \"gender\": 0, \"id\": 103259, \"name\": \"Nikie Zambo\", \"order\": 81}, {\"cast_id\": 102, \"character\": \"Ambient Room Tech / Troupe\", \"credit_id\": \"52fe48019251416c750acb6f\", \"gender\": 1, \"id\": 42286, \"name\": \"Julene Renee\", \"order\": 82}]'"
      ]
     },
     "execution_count": 33,
     "metadata": {},
     "output_type": "execute_result"
    }
   ],
   "source": [
    "movies['cast'][0]"
   ]
  },
  {
   "cell_type": "code",
   "execution_count": 34,
   "id": "0571e4ac-ceda-4bae-ae12-95cbf270f32d",
   "metadata": {},
   "outputs": [
    {
     "data": {
      "text/plain": [
       "0        [Sam Worthington, Zoe Saldana, Sigourney Weaver]\n",
       "1           [Johnny Depp, Orlando Bloom, Keira Knightley]\n",
       "2            [Daniel Craig, Christoph Waltz, Léa Seydoux]\n",
       "3            [Christian Bale, Michael Caine, Gary Oldman]\n",
       "4          [Taylor Kitsch, Lynn Collins, Samantha Morton]\n",
       "                              ...                        \n",
       "4779       [Brian O'Halloran, Jeff Anderson, Jason Mewes]\n",
       "4787         [Suzi Lorraine, Jared Degado, Heather Dorff]\n",
       "4797    [Michael Parle, Emma Eliza Regan, Patrick O'Do...\n",
       "4802        [Shane Carruth, David Sullivan, Casey Gooden]\n",
       "4807            [Daniel Henney, Eliza Coupe, Bill Paxton]\n",
       "Name: cast, Length: 1494, dtype: object"
      ]
     },
     "execution_count": 34,
     "metadata": {},
     "output_type": "execute_result"
    }
   ],
   "source": [
    "def convert3(obj):\n",
    "    L = []\n",
    "    count = 0\n",
    "    for i in ast.literal_eval(obj):\n",
    "        if count != 3 :\n",
    "            L.append(i['name'])\n",
    "            count +=1\n",
    "        else :\n",
    "            break\n",
    "    return L\n",
    "movies['cast'].apply(convert3)    "
   ]
  },
  {
   "cell_type": "code",
   "execution_count": 35,
   "id": "5a23cb33-228b-44b2-beb8-000dd7a816d9",
   "metadata": {},
   "outputs": [],
   "source": [
    "# movies['cast'].apply(convert3)"
   ]
  },
  {
   "cell_type": "code",
   "execution_count": 36,
   "id": "5e2cc518-b216-42fd-ac65-9fb96ce0e647",
   "metadata": {},
   "outputs": [],
   "source": [
    "movies['cast']=movies['cast'].apply(convert3)"
   ]
  },
  {
   "cell_type": "code",
   "execution_count": 37,
   "id": "5fc86a70-182e-4f6a-a99b-371638512f53",
   "metadata": {},
   "outputs": [
    {
     "data": {
      "text/html": [
       "<div>\n",
       "<style scoped>\n",
       "    .dataframe tbody tr th:only-of-type {\n",
       "        vertical-align: middle;\n",
       "    }\n",
       "\n",
       "    .dataframe tbody tr th {\n",
       "        vertical-align: top;\n",
       "    }\n",
       "\n",
       "    .dataframe thead th {\n",
       "        text-align: right;\n",
       "    }\n",
       "</style>\n",
       "<table border=\"1\" class=\"dataframe\">\n",
       "  <thead>\n",
       "    <tr style=\"text-align: right;\">\n",
       "      <th></th>\n",
       "      <th>movie_id</th>\n",
       "      <th>title</th>\n",
       "      <th>overview</th>\n",
       "      <th>genres</th>\n",
       "      <th>keywords</th>\n",
       "      <th>cast</th>\n",
       "      <th>crew</th>\n",
       "    </tr>\n",
       "  </thead>\n",
       "  <tbody>\n",
       "    <tr>\n",
       "      <th>0</th>\n",
       "      <td>19995</td>\n",
       "      <td>Avatar</td>\n",
       "      <td>In the 22nd century, a paraplegic Marine is di...</td>\n",
       "      <td>[Action, Adventure, Fantasy, Science Fiction]</td>\n",
       "      <td>[culture clash, future, space war, space colon...</td>\n",
       "      <td>[Sam Worthington, Zoe Saldana, Sigourney Weaver]</td>\n",
       "      <td>[{\"credit_id\": \"52fe48009251416c750aca23\", \"de...</td>\n",
       "    </tr>\n",
       "    <tr>\n",
       "      <th>1</th>\n",
       "      <td>285</td>\n",
       "      <td>Pirates of the Caribbean: At World's End</td>\n",
       "      <td>Captain Barbossa, long believed to be dead, ha...</td>\n",
       "      <td>[Adventure, Fantasy, Action]</td>\n",
       "      <td>[ocean, drug abuse, exotic island, east india ...</td>\n",
       "      <td>[Johnny Depp, Orlando Bloom, Keira Knightley]</td>\n",
       "      <td>[{\"credit_id\": \"52fe4232c3a36847f800b579\", \"de...</td>\n",
       "    </tr>\n",
       "  </tbody>\n",
       "</table>\n",
       "</div>"
      ],
      "text/plain": [
       "   movie_id                                     title  \\\n",
       "0     19995                                    Avatar   \n",
       "1       285  Pirates of the Caribbean: At World's End   \n",
       "\n",
       "                                            overview  \\\n",
       "0  In the 22nd century, a paraplegic Marine is di...   \n",
       "1  Captain Barbossa, long believed to be dead, ha...   \n",
       "\n",
       "                                          genres  \\\n",
       "0  [Action, Adventure, Fantasy, Science Fiction]   \n",
       "1                   [Adventure, Fantasy, Action]   \n",
       "\n",
       "                                            keywords  \\\n",
       "0  [culture clash, future, space war, space colon...   \n",
       "1  [ocean, drug abuse, exotic island, east india ...   \n",
       "\n",
       "                                               cast  \\\n",
       "0  [Sam Worthington, Zoe Saldana, Sigourney Weaver]   \n",
       "1     [Johnny Depp, Orlando Bloom, Keira Knightley]   \n",
       "\n",
       "                                                crew  \n",
       "0  [{\"credit_id\": \"52fe48009251416c750aca23\", \"de...  \n",
       "1  [{\"credit_id\": \"52fe4232c3a36847f800b579\", \"de...  "
      ]
     },
     "execution_count": 37,
     "metadata": {},
     "output_type": "execute_result"
    }
   ],
   "source": [
    "movies.head(2)"
   ]
  },
  {
   "cell_type": "code",
   "execution_count": 38,
   "id": "76b96f32-9f28-43db-88e7-56a0a4e21f9b",
   "metadata": {},
   "outputs": [],
   "source": [
    "def fetch_director(obj):\n",
    "    L = []\n",
    "    for i in ast.literal_eval(obj):\n",
    "        if i['job'] == 'Director' :\n",
    "            L.append(i['name'])\n",
    "            break\n",
    "       \n",
    "    return L\n",
    "# movies['crew'].apply(fetch_director) "
   ]
  },
  {
   "cell_type": "code",
   "execution_count": 39,
   "id": "754bc662-c27d-4d87-bfaf-81195ddf5ef7",
   "metadata": {},
   "outputs": [
    {
     "data": {
      "text/plain": [
       "0           [James Cameron]\n",
       "1          [Gore Verbinski]\n",
       "2              [Sam Mendes]\n",
       "3       [Christopher Nolan]\n",
       "4          [Andrew Stanton]\n",
       "               ...         \n",
       "4779          [Kevin Smith]\n",
       "4787         [Travis Legge]\n",
       "4797        [Ivan Kavanagh]\n",
       "4802        [Shane Carruth]\n",
       "4807          [Daniel Hsia]\n",
       "Name: crew, Length: 1494, dtype: object"
      ]
     },
     "execution_count": 39,
     "metadata": {},
     "output_type": "execute_result"
    }
   ],
   "source": [
    "movies['crew'].apply(fetch_director) "
   ]
  },
  {
   "cell_type": "code",
   "execution_count": 40,
   "id": "cc04c112-9573-41f5-ba24-b27789a269c7",
   "metadata": {},
   "outputs": [],
   "source": [
    "movies['crew']=movies['crew'].apply(fetch_director) "
   ]
  },
  {
   "cell_type": "code",
   "execution_count": 41,
   "id": "4f168e90-ed2f-4f3d-9b8e-2a6a41e69da9",
   "metadata": {},
   "outputs": [
    {
     "data": {
      "text/plain": [
       "'In the 22nd century, a paraplegic Marine is dispatched to the moon Pandora on a unique mission, but becomes torn between following orders and protecting an alien civilization.'"
      ]
     },
     "execution_count": 41,
     "metadata": {},
     "output_type": "execute_result"
    }
   ],
   "source": [
    "movies['overview'][0]"
   ]
  },
  {
   "cell_type": "code",
   "execution_count": 42,
   "id": "41aa4116-07cb-4a85-9146-e5c1388d09da",
   "metadata": {},
   "outputs": [
    {
     "data": {
      "text/plain": [
       "0       [In, the, 22nd, century,, a, paraplegic, Marin...\n",
       "1       [Captain, Barbossa,, long, believed, to, be, d...\n",
       "2       [A, cryptic, message, from, Bond’s, past, send...\n",
       "3       [Following, the, death, of, District, Attorney...\n",
       "4       [John, Carter, is, a, war-weary,, former, mili...\n",
       "                              ...                        \n",
       "4779    [Convenience, and, video, store, clerks, Dante...\n",
       "4787    [Sasha, tries, to, get, her, soon-to-be, ex, h...\n",
       "4797    [Recently, dumped, by, his, girlfirend, for, a...\n",
       "4802    [Friends/fledgling, entrepreneurs, invent, a, ...\n",
       "4807    [When, ambitious, New, York, attorney, Sam, is...\n",
       "Name: overview, Length: 1494, dtype: object"
      ]
     },
     "execution_count": 42,
     "metadata": {},
     "output_type": "execute_result"
    }
   ],
   "source": [
    "movies['overview'].apply(lambda x : x.split())"
   ]
  },
  {
   "cell_type": "code",
   "execution_count": 43,
   "id": "837aa2de-6064-45a8-b5f7-778d13fa2a5c",
   "metadata": {},
   "outputs": [],
   "source": [
    "movies['overview']=movies['overview'].apply(lambda x : x.split())"
   ]
  },
  {
   "cell_type": "code",
   "execution_count": 44,
   "id": "0fbe5a69-4a70-4f8a-a8c4-f3618a3844d6",
   "metadata": {},
   "outputs": [
    {
     "data": {
      "text/html": [
       "<div>\n",
       "<style scoped>\n",
       "    .dataframe tbody tr th:only-of-type {\n",
       "        vertical-align: middle;\n",
       "    }\n",
       "\n",
       "    .dataframe tbody tr th {\n",
       "        vertical-align: top;\n",
       "    }\n",
       "\n",
       "    .dataframe thead th {\n",
       "        text-align: right;\n",
       "    }\n",
       "</style>\n",
       "<table border=\"1\" class=\"dataframe\">\n",
       "  <thead>\n",
       "    <tr style=\"text-align: right;\">\n",
       "      <th></th>\n",
       "      <th>movie_id</th>\n",
       "      <th>title</th>\n",
       "      <th>overview</th>\n",
       "      <th>genres</th>\n",
       "      <th>keywords</th>\n",
       "      <th>cast</th>\n",
       "      <th>crew</th>\n",
       "    </tr>\n",
       "  </thead>\n",
       "  <tbody>\n",
       "    <tr>\n",
       "      <th>0</th>\n",
       "      <td>19995</td>\n",
       "      <td>Avatar</td>\n",
       "      <td>[In, the, 22nd, century,, a, paraplegic, Marin...</td>\n",
       "      <td>[Action, Adventure, Fantasy, Science Fiction]</td>\n",
       "      <td>[culture clash, future, space war, space colon...</td>\n",
       "      <td>[Sam Worthington, Zoe Saldana, Sigourney Weaver]</td>\n",
       "      <td>[James Cameron]</td>\n",
       "    </tr>\n",
       "  </tbody>\n",
       "</table>\n",
       "</div>"
      ],
      "text/plain": [
       "   movie_id   title                                           overview  \\\n",
       "0     19995  Avatar  [In, the, 22nd, century,, a, paraplegic, Marin...   \n",
       "\n",
       "                                          genres  \\\n",
       "0  [Action, Adventure, Fantasy, Science Fiction]   \n",
       "\n",
       "                                            keywords  \\\n",
       "0  [culture clash, future, space war, space colon...   \n",
       "\n",
       "                                               cast             crew  \n",
       "0  [Sam Worthington, Zoe Saldana, Sigourney Weaver]  [James Cameron]  "
      ]
     },
     "execution_count": 44,
     "metadata": {},
     "output_type": "execute_result"
    }
   ],
   "source": [
    "movies.head(1)"
   ]
  },
  {
   "cell_type": "code",
   "execution_count": 45,
   "id": "39d6ec3a-0ede-4b6f-a58c-6ec39a1322a6",
   "metadata": {},
   "outputs": [
    {
     "data": {
      "text/plain": [
       "0       [Action, Adventure, Fantasy, ScienceFiction]\n",
       "1                       [Adventure, Fantasy, Action]\n",
       "2                         [Action, Adventure, Crime]\n",
       "3                   [Action, Crime, Drama, Thriller]\n",
       "4                [Action, Adventure, ScienceFiction]\n",
       "                            ...                     \n",
       "4779                                        [Comedy]\n",
       "4787                               [Comedy, Romance]\n",
       "4797                                        [Horror]\n",
       "4802               [ScienceFiction, Drama, Thriller]\n",
       "4807                                              []\n",
       "Name: genres, Length: 1494, dtype: object"
      ]
     },
     "execution_count": 45,
     "metadata": {},
     "output_type": "execute_result"
    }
   ],
   "source": [
    "movies['genres'].apply(lambda x:[i.replace(' ','') for i in x])"
   ]
  },
  {
   "cell_type": "code",
   "execution_count": 46,
   "id": "8d84c65e-22af-4e4b-9577-d1307a0fa051",
   "metadata": {},
   "outputs": [],
   "source": [
    "movies['genres']=movies['genres'].apply(lambda x:[i.replace(' ','') for i in x])\n",
    "movies['keywords']=movies['keywords'].apply(lambda x:[i.replace(' ','') for i in x])\n",
    "movies['cast']=movies['cast'].apply(lambda x:[i.replace(' ','') for i in x])\n",
    "movies['crew']=movies['crew'].apply(lambda x:[i.replace(' ','') for i in x])"
   ]
  },
  {
   "cell_type": "code",
   "execution_count": 47,
   "id": "f8f4da58-71d3-4346-9d84-5bfaecf865f2",
   "metadata": {},
   "outputs": [
    {
     "data": {
      "text/html": [
       "<div>\n",
       "<style scoped>\n",
       "    .dataframe tbody tr th:only-of-type {\n",
       "        vertical-align: middle;\n",
       "    }\n",
       "\n",
       "    .dataframe tbody tr th {\n",
       "        vertical-align: top;\n",
       "    }\n",
       "\n",
       "    .dataframe thead th {\n",
       "        text-align: right;\n",
       "    }\n",
       "</style>\n",
       "<table border=\"1\" class=\"dataframe\">\n",
       "  <thead>\n",
       "    <tr style=\"text-align: right;\">\n",
       "      <th></th>\n",
       "      <th>movie_id</th>\n",
       "      <th>title</th>\n",
       "      <th>overview</th>\n",
       "      <th>genres</th>\n",
       "      <th>keywords</th>\n",
       "      <th>cast</th>\n",
       "      <th>crew</th>\n",
       "    </tr>\n",
       "  </thead>\n",
       "  <tbody>\n",
       "    <tr>\n",
       "      <th>0</th>\n",
       "      <td>19995</td>\n",
       "      <td>Avatar</td>\n",
       "      <td>[In, the, 22nd, century,, a, paraplegic, Marin...</td>\n",
       "      <td>[Action, Adventure, Fantasy, ScienceFiction]</td>\n",
       "      <td>[cultureclash, future, spacewar, spacecolony, ...</td>\n",
       "      <td>[SamWorthington, ZoeSaldana, SigourneyWeaver]</td>\n",
       "      <td>[JamesCameron]</td>\n",
       "    </tr>\n",
       "  </tbody>\n",
       "</table>\n",
       "</div>"
      ],
      "text/plain": [
       "   movie_id   title                                           overview  \\\n",
       "0     19995  Avatar  [In, the, 22nd, century,, a, paraplegic, Marin...   \n",
       "\n",
       "                                         genres  \\\n",
       "0  [Action, Adventure, Fantasy, ScienceFiction]   \n",
       "\n",
       "                                            keywords  \\\n",
       "0  [cultureclash, future, spacewar, spacecolony, ...   \n",
       "\n",
       "                                            cast            crew  \n",
       "0  [SamWorthington, ZoeSaldana, SigourneyWeaver]  [JamesCameron]  "
      ]
     },
     "execution_count": 47,
     "metadata": {},
     "output_type": "execute_result"
    }
   ],
   "source": [
    "movies.head(1)"
   ]
  },
  {
   "cell_type": "code",
   "execution_count": 48,
   "id": "733900b8-34e0-42ee-a2d3-1f2e3de3982d",
   "metadata": {},
   "outputs": [],
   "source": [
    "movies['tags']=movies['overview']+movies['genres']+movies['keywords']+movies['cast']+movies['crew']"
   ]
  },
  {
   "cell_type": "code",
   "execution_count": 49,
   "id": "397de62b-16f3-448d-9eb4-b6da78f3d08e",
   "metadata": {},
   "outputs": [
    {
     "data": {
      "text/html": [
       "<div>\n",
       "<style scoped>\n",
       "    .dataframe tbody tr th:only-of-type {\n",
       "        vertical-align: middle;\n",
       "    }\n",
       "\n",
       "    .dataframe tbody tr th {\n",
       "        vertical-align: top;\n",
       "    }\n",
       "\n",
       "    .dataframe thead th {\n",
       "        text-align: right;\n",
       "    }\n",
       "</style>\n",
       "<table border=\"1\" class=\"dataframe\">\n",
       "  <thead>\n",
       "    <tr style=\"text-align: right;\">\n",
       "      <th></th>\n",
       "      <th>movie_id</th>\n",
       "      <th>title</th>\n",
       "      <th>overview</th>\n",
       "      <th>genres</th>\n",
       "      <th>keywords</th>\n",
       "      <th>cast</th>\n",
       "      <th>crew</th>\n",
       "      <th>tags</th>\n",
       "    </tr>\n",
       "  </thead>\n",
       "  <tbody>\n",
       "    <tr>\n",
       "      <th>0</th>\n",
       "      <td>19995</td>\n",
       "      <td>Avatar</td>\n",
       "      <td>[In, the, 22nd, century,, a, paraplegic, Marin...</td>\n",
       "      <td>[Action, Adventure, Fantasy, ScienceFiction]</td>\n",
       "      <td>[cultureclash, future, spacewar, spacecolony, ...</td>\n",
       "      <td>[SamWorthington, ZoeSaldana, SigourneyWeaver]</td>\n",
       "      <td>[JamesCameron]</td>\n",
       "      <td>[In, the, 22nd, century,, a, paraplegic, Marin...</td>\n",
       "    </tr>\n",
       "    <tr>\n",
       "      <th>1</th>\n",
       "      <td>285</td>\n",
       "      <td>Pirates of the Caribbean: At World's End</td>\n",
       "      <td>[Captain, Barbossa,, long, believed, to, be, d...</td>\n",
       "      <td>[Adventure, Fantasy, Action]</td>\n",
       "      <td>[ocean, drugabuse, exoticisland, eastindiatrad...</td>\n",
       "      <td>[JohnnyDepp, OrlandoBloom, KeiraKnightley]</td>\n",
       "      <td>[GoreVerbinski]</td>\n",
       "      <td>[Captain, Barbossa,, long, believed, to, be, d...</td>\n",
       "    </tr>\n",
       "    <tr>\n",
       "      <th>2</th>\n",
       "      <td>206647</td>\n",
       "      <td>Spectre</td>\n",
       "      <td>[A, cryptic, message, from, Bond’s, past, send...</td>\n",
       "      <td>[Action, Adventure, Crime]</td>\n",
       "      <td>[spy, basedonnovel, secretagent, sequel, mi6, ...</td>\n",
       "      <td>[DanielCraig, ChristophWaltz, LéaSeydoux]</td>\n",
       "      <td>[SamMendes]</td>\n",
       "      <td>[A, cryptic, message, from, Bond’s, past, send...</td>\n",
       "    </tr>\n",
       "    <tr>\n",
       "      <th>3</th>\n",
       "      <td>49026</td>\n",
       "      <td>The Dark Knight Rises</td>\n",
       "      <td>[Following, the, death, of, District, Attorney...</td>\n",
       "      <td>[Action, Crime, Drama, Thriller]</td>\n",
       "      <td>[dccomics, crimefighter, terrorist, secretiden...</td>\n",
       "      <td>[ChristianBale, MichaelCaine, GaryOldman]</td>\n",
       "      <td>[ChristopherNolan]</td>\n",
       "      <td>[Following, the, death, of, District, Attorney...</td>\n",
       "    </tr>\n",
       "    <tr>\n",
       "      <th>4</th>\n",
       "      <td>49529</td>\n",
       "      <td>John Carter</td>\n",
       "      <td>[John, Carter, is, a, war-weary,, former, mili...</td>\n",
       "      <td>[Action, Adventure, ScienceFiction]</td>\n",
       "      <td>[basedonnovel, mars, medallion, spacetravel, p...</td>\n",
       "      <td>[TaylorKitsch, LynnCollins, SamanthaMorton]</td>\n",
       "      <td>[AndrewStanton]</td>\n",
       "      <td>[John, Carter, is, a, war-weary,, former, mili...</td>\n",
       "    </tr>\n",
       "  </tbody>\n",
       "</table>\n",
       "</div>"
      ],
      "text/plain": [
       "   movie_id                                     title  \\\n",
       "0     19995                                    Avatar   \n",
       "1       285  Pirates of the Caribbean: At World's End   \n",
       "2    206647                                   Spectre   \n",
       "3     49026                     The Dark Knight Rises   \n",
       "4     49529                               John Carter   \n",
       "\n",
       "                                            overview  \\\n",
       "0  [In, the, 22nd, century,, a, paraplegic, Marin...   \n",
       "1  [Captain, Barbossa,, long, believed, to, be, d...   \n",
       "2  [A, cryptic, message, from, Bond’s, past, send...   \n",
       "3  [Following, the, death, of, District, Attorney...   \n",
       "4  [John, Carter, is, a, war-weary,, former, mili...   \n",
       "\n",
       "                                         genres  \\\n",
       "0  [Action, Adventure, Fantasy, ScienceFiction]   \n",
       "1                  [Adventure, Fantasy, Action]   \n",
       "2                    [Action, Adventure, Crime]   \n",
       "3              [Action, Crime, Drama, Thriller]   \n",
       "4           [Action, Adventure, ScienceFiction]   \n",
       "\n",
       "                                            keywords  \\\n",
       "0  [cultureclash, future, spacewar, spacecolony, ...   \n",
       "1  [ocean, drugabuse, exoticisland, eastindiatrad...   \n",
       "2  [spy, basedonnovel, secretagent, sequel, mi6, ...   \n",
       "3  [dccomics, crimefighter, terrorist, secretiden...   \n",
       "4  [basedonnovel, mars, medallion, spacetravel, p...   \n",
       "\n",
       "                                            cast                crew  \\\n",
       "0  [SamWorthington, ZoeSaldana, SigourneyWeaver]      [JamesCameron]   \n",
       "1     [JohnnyDepp, OrlandoBloom, KeiraKnightley]     [GoreVerbinski]   \n",
       "2      [DanielCraig, ChristophWaltz, LéaSeydoux]         [SamMendes]   \n",
       "3      [ChristianBale, MichaelCaine, GaryOldman]  [ChristopherNolan]   \n",
       "4    [TaylorKitsch, LynnCollins, SamanthaMorton]     [AndrewStanton]   \n",
       "\n",
       "                                                tags  \n",
       "0  [In, the, 22nd, century,, a, paraplegic, Marin...  \n",
       "1  [Captain, Barbossa,, long, believed, to, be, d...  \n",
       "2  [A, cryptic, message, from, Bond’s, past, send...  \n",
       "3  [Following, the, death, of, District, Attorney...  \n",
       "4  [John, Carter, is, a, war-weary,, former, mili...  "
      ]
     },
     "execution_count": 49,
     "metadata": {},
     "output_type": "execute_result"
    }
   ],
   "source": [
    "movies.head()"
   ]
  },
  {
   "cell_type": "code",
   "execution_count": 50,
   "id": "c3e3b86d-d113-4a01-a01b-00f55dadce20",
   "metadata": {},
   "outputs": [],
   "source": [
    "df= movies[['movie_id','title','tags']]"
   ]
  },
  {
   "cell_type": "code",
   "execution_count": 51,
   "id": "25c0fe11-bd6b-408d-9f23-76b524da6553",
   "metadata": {},
   "outputs": [
    {
     "data": {
      "text/html": [
       "<div>\n",
       "<style scoped>\n",
       "    .dataframe tbody tr th:only-of-type {\n",
       "        vertical-align: middle;\n",
       "    }\n",
       "\n",
       "    .dataframe tbody tr th {\n",
       "        vertical-align: top;\n",
       "    }\n",
       "\n",
       "    .dataframe thead th {\n",
       "        text-align: right;\n",
       "    }\n",
       "</style>\n",
       "<table border=\"1\" class=\"dataframe\">\n",
       "  <thead>\n",
       "    <tr style=\"text-align: right;\">\n",
       "      <th></th>\n",
       "      <th>movie_id</th>\n",
       "      <th>title</th>\n",
       "      <th>tags</th>\n",
       "    </tr>\n",
       "  </thead>\n",
       "  <tbody>\n",
       "    <tr>\n",
       "      <th>0</th>\n",
       "      <td>19995</td>\n",
       "      <td>Avatar</td>\n",
       "      <td>[In, the, 22nd, century,, a, paraplegic, Marin...</td>\n",
       "    </tr>\n",
       "    <tr>\n",
       "      <th>1</th>\n",
       "      <td>285</td>\n",
       "      <td>Pirates of the Caribbean: At World's End</td>\n",
       "      <td>[Captain, Barbossa,, long, believed, to, be, d...</td>\n",
       "    </tr>\n",
       "    <tr>\n",
       "      <th>2</th>\n",
       "      <td>206647</td>\n",
       "      <td>Spectre</td>\n",
       "      <td>[A, cryptic, message, from, Bond’s, past, send...</td>\n",
       "    </tr>\n",
       "    <tr>\n",
       "      <th>3</th>\n",
       "      <td>49026</td>\n",
       "      <td>The Dark Knight Rises</td>\n",
       "      <td>[Following, the, death, of, District, Attorney...</td>\n",
       "    </tr>\n",
       "    <tr>\n",
       "      <th>4</th>\n",
       "      <td>49529</td>\n",
       "      <td>John Carter</td>\n",
       "      <td>[John, Carter, is, a, war-weary,, former, mili...</td>\n",
       "    </tr>\n",
       "  </tbody>\n",
       "</table>\n",
       "</div>"
      ],
      "text/plain": [
       "   movie_id                                     title  \\\n",
       "0     19995                                    Avatar   \n",
       "1       285  Pirates of the Caribbean: At World's End   \n",
       "2    206647                                   Spectre   \n",
       "3     49026                     The Dark Knight Rises   \n",
       "4     49529                               John Carter   \n",
       "\n",
       "                                                tags  \n",
       "0  [In, the, 22nd, century,, a, paraplegic, Marin...  \n",
       "1  [Captain, Barbossa,, long, believed, to, be, d...  \n",
       "2  [A, cryptic, message, from, Bond’s, past, send...  \n",
       "3  [Following, the, death, of, District, Attorney...  \n",
       "4  [John, Carter, is, a, war-weary,, former, mili...  "
      ]
     },
     "execution_count": 51,
     "metadata": {},
     "output_type": "execute_result"
    }
   ],
   "source": [
    "df.head()"
   ]
  },
  {
   "cell_type": "code",
   "execution_count": 52,
   "id": "951d9575-8022-4f1a-b1f7-7a201f047300",
   "metadata": {},
   "outputs": [
    {
     "data": {
      "text/plain": [
       "0       In the 22nd century, a paraplegic Marine is di...\n",
       "1       Captain Barbossa, long believed to be dead, ha...\n",
       "2       A cryptic message from Bond’s past sends him o...\n",
       "3       Following the death of District Attorney Harve...\n",
       "4       John Carter is a war-weary, former military ca...\n",
       "                              ...                        \n",
       "4779    Convenience and video store clerks Dante and R...\n",
       "4787    Sasha tries to get her soon-to-be ex husband K...\n",
       "4797    Recently dumped by his girlfirend for another ...\n",
       "4802    Friends/fledgling entrepreneurs invent a devic...\n",
       "4807    When ambitious New York attorney Sam is sent t...\n",
       "Name: tags, Length: 1494, dtype: object"
      ]
     },
     "execution_count": 52,
     "metadata": {},
     "output_type": "execute_result"
    }
   ],
   "source": [
    "df.tags.apply(lambda x : ' '.join(x))"
   ]
  },
  {
   "cell_type": "code",
   "execution_count": 53,
   "id": "5bba8baa-9fb1-4204-92d8-bbb3d99ad961",
   "metadata": {},
   "outputs": [],
   "source": [
    "df['tags']=df.tags.apply(lambda x : ' '.join(x))"
   ]
  },
  {
   "cell_type": "code",
   "execution_count": 54,
   "id": "de1265ca-dd46-4c51-b24e-09c39fddfdde",
   "metadata": {},
   "outputs": [
    {
     "data": {
      "text/plain": [
       "'in the 22nd century, a paraplegic marine is dispatched to the moon pandora on a unique mission, but becomes torn between following orders and protecting an alien civilization. action adventure fantasy sciencefiction cultureclash future spacewar spacecolony society spacetravel futuristic romance space alien tribe alienplanet cgi marine soldier battle loveaffair antiwar powerrelations mindandsoul 3d samworthington zoesaldana sigourneyweaver jamescameron'"
      ]
     },
     "execution_count": 54,
     "metadata": {},
     "output_type": "execute_result"
    }
   ],
   "source": [
    "df.tags[0].lower()"
   ]
  },
  {
   "cell_type": "code",
   "execution_count": 55,
   "id": "0994498b-7dee-4911-961e-4d78b7e4eff3",
   "metadata": {},
   "outputs": [
    {
     "ename": "AttributeError",
     "evalue": "'Series' object has no attribute 'lower'",
     "output_type": "error",
     "traceback": [
      "\u001b[1;31m---------------------------------------------------------------------------\u001b[0m",
      "\u001b[1;31mAttributeError\u001b[0m                            Traceback (most recent call last)",
      "\u001b[1;32m~\\AppData\\Local\\Temp\\ipykernel_12924\\2023428138.py\u001b[0m in \u001b[0;36m?\u001b[1;34m()\u001b[0m\n\u001b[1;32m----> 1\u001b[1;33m \u001b[0mdf\u001b[0m\u001b[1;33m[\u001b[0m\u001b[1;34m'tags'\u001b[0m\u001b[1;33m]\u001b[0m\u001b[1;33m=\u001b[0m\u001b[0mdf\u001b[0m\u001b[1;33m.\u001b[0m\u001b[0mtags\u001b[0m\u001b[1;33m.\u001b[0m\u001b[0mapply\u001b[0m\u001b[1;33m(\u001b[0m\u001b[1;32mlambda\u001b[0m \u001b[0mx\u001b[0m \u001b[1;33m:\u001b[0m \u001b[1;34m' '\u001b[0m\u001b[1;33m.\u001b[0m\u001b[0mjoin\u001b[0m\u001b[1;33m(\u001b[0m\u001b[0mx\u001b[0m\u001b[1;33m)\u001b[0m\u001b[1;33m)\u001b[0m\u001b[1;33m.\u001b[0m\u001b[0mlower\u001b[0m\u001b[1;33m(\u001b[0m\u001b[1;33m)\u001b[0m\u001b[1;33m\u001b[0m\u001b[1;33m\u001b[0m\u001b[0m\n\u001b[0m",
      "\u001b[1;32m~\\AppData\\Local\\Programs\\Python\\Python311\\Lib\\site-packages\\pandas\\core\\generic.py\u001b[0m in \u001b[0;36m?\u001b[1;34m(self, name)\u001b[0m\n\u001b[0;32m   6292\u001b[0m             \u001b[1;32mand\u001b[0m \u001b[0mname\u001b[0m \u001b[1;32mnot\u001b[0m \u001b[1;32min\u001b[0m \u001b[0mself\u001b[0m\u001b[1;33m.\u001b[0m\u001b[0m_accessors\u001b[0m\u001b[1;33m\u001b[0m\u001b[1;33m\u001b[0m\u001b[0m\n\u001b[0;32m   6293\u001b[0m             \u001b[1;32mand\u001b[0m \u001b[0mself\u001b[0m\u001b[1;33m.\u001b[0m\u001b[0m_info_axis\u001b[0m\u001b[1;33m.\u001b[0m\u001b[0m_can_hold_identifiers_and_holds_name\u001b[0m\u001b[1;33m(\u001b[0m\u001b[0mname\u001b[0m\u001b[1;33m)\u001b[0m\u001b[1;33m\u001b[0m\u001b[1;33m\u001b[0m\u001b[0m\n\u001b[0;32m   6294\u001b[0m         ):\n\u001b[0;32m   6295\u001b[0m             \u001b[1;32mreturn\u001b[0m \u001b[0mself\u001b[0m\u001b[1;33m[\u001b[0m\u001b[0mname\u001b[0m\u001b[1;33m]\u001b[0m\u001b[1;33m\u001b[0m\u001b[1;33m\u001b[0m\u001b[0m\n\u001b[1;32m-> 6296\u001b[1;33m         \u001b[1;32mreturn\u001b[0m \u001b[0mobject\u001b[0m\u001b[1;33m.\u001b[0m\u001b[0m__getattribute__\u001b[0m\u001b[1;33m(\u001b[0m\u001b[0mself\u001b[0m\u001b[1;33m,\u001b[0m \u001b[0mname\u001b[0m\u001b[1;33m)\u001b[0m\u001b[1;33m\u001b[0m\u001b[1;33m\u001b[0m\u001b[0m\n\u001b[0m",
      "\u001b[1;31mAttributeError\u001b[0m: 'Series' object has no attribute 'lower'"
     ]
    }
   ],
   "source": [
    "df['tags']=df.tags.apply(lambda x : ' '.join(x)).lower()"
   ]
  },
  {
   "cell_type": "code",
   "execution_count": 56,
   "id": "3e8532d5",
   "metadata": {},
   "outputs": [
    {
     "ename": "AttributeError",
     "evalue": "'Series' object has no attribute 'lower'",
     "output_type": "error",
     "traceback": [
      "\u001b[1;31m---------------------------------------------------------------------------\u001b[0m",
      "\u001b[1;31mAttributeError\u001b[0m                            Traceback (most recent call last)",
      "\u001b[1;32m~\\AppData\\Local\\Temp\\ipykernel_12924\\2023428138.py\u001b[0m in \u001b[0;36m?\u001b[1;34m()\u001b[0m\n\u001b[1;32m----> 1\u001b[1;33m \u001b[0mdf\u001b[0m\u001b[1;33m[\u001b[0m\u001b[1;34m'tags'\u001b[0m\u001b[1;33m]\u001b[0m\u001b[1;33m=\u001b[0m\u001b[0mdf\u001b[0m\u001b[1;33m.\u001b[0m\u001b[0mtags\u001b[0m\u001b[1;33m.\u001b[0m\u001b[0mapply\u001b[0m\u001b[1;33m(\u001b[0m\u001b[1;32mlambda\u001b[0m \u001b[0mx\u001b[0m \u001b[1;33m:\u001b[0m \u001b[1;34m' '\u001b[0m\u001b[1;33m.\u001b[0m\u001b[0mjoin\u001b[0m\u001b[1;33m(\u001b[0m\u001b[0mx\u001b[0m\u001b[1;33m)\u001b[0m\u001b[1;33m)\u001b[0m\u001b[1;33m.\u001b[0m\u001b[0mlower\u001b[0m\u001b[1;33m(\u001b[0m\u001b[1;33m)\u001b[0m\u001b[1;33m\u001b[0m\u001b[1;33m\u001b[0m\u001b[0m\n\u001b[0m",
      "\u001b[1;32m~\\AppData\\Local\\Programs\\Python\\Python311\\Lib\\site-packages\\pandas\\core\\generic.py\u001b[0m in \u001b[0;36m?\u001b[1;34m(self, name)\u001b[0m\n\u001b[0;32m   6292\u001b[0m             \u001b[1;32mand\u001b[0m \u001b[0mname\u001b[0m \u001b[1;32mnot\u001b[0m \u001b[1;32min\u001b[0m \u001b[0mself\u001b[0m\u001b[1;33m.\u001b[0m\u001b[0m_accessors\u001b[0m\u001b[1;33m\u001b[0m\u001b[1;33m\u001b[0m\u001b[0m\n\u001b[0;32m   6293\u001b[0m             \u001b[1;32mand\u001b[0m \u001b[0mself\u001b[0m\u001b[1;33m.\u001b[0m\u001b[0m_info_axis\u001b[0m\u001b[1;33m.\u001b[0m\u001b[0m_can_hold_identifiers_and_holds_name\u001b[0m\u001b[1;33m(\u001b[0m\u001b[0mname\u001b[0m\u001b[1;33m)\u001b[0m\u001b[1;33m\u001b[0m\u001b[1;33m\u001b[0m\u001b[0m\n\u001b[0;32m   6294\u001b[0m         ):\n\u001b[0;32m   6295\u001b[0m             \u001b[1;32mreturn\u001b[0m \u001b[0mself\u001b[0m\u001b[1;33m[\u001b[0m\u001b[0mname\u001b[0m\u001b[1;33m]\u001b[0m\u001b[1;33m\u001b[0m\u001b[1;33m\u001b[0m\u001b[0m\n\u001b[1;32m-> 6296\u001b[1;33m         \u001b[1;32mreturn\u001b[0m \u001b[0mobject\u001b[0m\u001b[1;33m.\u001b[0m\u001b[0m__getattribute__\u001b[0m\u001b[1;33m(\u001b[0m\u001b[0mself\u001b[0m\u001b[1;33m,\u001b[0m \u001b[0mname\u001b[0m\u001b[1;33m)\u001b[0m\u001b[1;33m\u001b[0m\u001b[1;33m\u001b[0m\u001b[0m\n\u001b[0m",
      "\u001b[1;31mAttributeError\u001b[0m: 'Series' object has no attribute 'lower'"
     ]
    }
   ],
   "source": [
    "df['tags']=df.tags.apply(lambda x : ' '.join(x)).lower()"
   ]
  },
  {
   "cell_type": "code",
   "execution_count": 57,
   "id": "7ec9a3c2-c90d-4c49-9798-b9a1718e409e",
   "metadata": {},
   "outputs": [
    {
     "data": {
      "text/plain": [
       "'In the 22nd century, a paraplegic Marine is dispatched to the moon Pandora on a unique mission, but becomes torn between following orders and protecting an alien civilization. Action Adventure Fantasy ScienceFiction cultureclash future spacewar spacecolony society spacetravel futuristic romance space alien tribe alienplanet cgi marine soldier battle loveaffair antiwar powerrelations mindandsoul 3d SamWorthington ZoeSaldana SigourneyWeaver JamesCameron'"
      ]
     },
     "execution_count": 57,
     "metadata": {},
     "output_type": "execute_result"
    }
   ],
   "source": [
    "df.tags[0]"
   ]
  },
  {
   "cell_type": "code",
   "execution_count": 58,
   "id": "41c19a3a-fe17-4b14-861e-48b1cf29a939",
   "metadata": {},
   "outputs": [],
   "source": [
    "df['tags']=df.tags.apply(lambda x : x.lower())\n"
   ]
  },
  {
   "cell_type": "code",
   "execution_count": 59,
   "id": "4174b609-d9a7-4d6f-a417-a610c038951f",
   "metadata": {},
   "outputs": [
    {
     "data": {
      "text/plain": [
       "'in the 22nd century, a paraplegic marine is dispatched to the moon pandora on a unique mission, but becomes torn between following orders and protecting an alien civilization. action adventure fantasy sciencefiction cultureclash future spacewar spacecolony society spacetravel futuristic romance space alien tribe alienplanet cgi marine soldier battle loveaffair antiwar powerrelations mindandsoul 3d samworthington zoesaldana sigourneyweaver jamescameron'"
      ]
     },
     "execution_count": 59,
     "metadata": {},
     "output_type": "execute_result"
    }
   ],
   "source": [
    "df.tags[0]"
   ]
  },
  {
   "cell_type": "code",
   "execution_count": 60,
   "id": "0115ed51-757b-4785-a083-7821108c0dc1",
   "metadata": {},
   "outputs": [],
   "source": [
    "from sklearn.feature_extraction.text import CountVectorizer\n",
    "cv = CountVectorizer(max_features=5000,stop_words='english')"
   ]
  },
  {
   "cell_type": "code",
   "execution_count": 61,
   "id": "7668e99c-6f28-4db3-84c9-e0ee171d4914",
   "metadata": {},
   "outputs": [],
   "source": [
    "vectors=cv.fit_transform(df['tags']).toarray()"
   ]
  },
  {
   "cell_type": "code",
   "execution_count": 62,
   "id": "3fa5784c-406f-4368-8cec-cdcce09cff2f",
   "metadata": {},
   "outputs": [
    {
     "data": {
      "text/plain": [
       "array([[0, 0, 0, ..., 0, 0, 0],\n",
       "       [0, 0, 0, ..., 0, 0, 0],\n",
       "       [0, 0, 0, ..., 0, 0, 0],\n",
       "       ...,\n",
       "       [0, 0, 0, ..., 0, 0, 0],\n",
       "       [0, 0, 0, ..., 0, 0, 0],\n",
       "       [0, 0, 0, ..., 0, 0, 0]], dtype=int64)"
      ]
     },
     "execution_count": 62,
     "metadata": {},
     "output_type": "execute_result"
    }
   ],
   "source": [
    "vectors"
   ]
  },
  {
   "cell_type": "code",
   "execution_count": null,
   "id": "da441e25-165f-4ea5-a8c8-d73dbc05cd61",
   "metadata": {},
   "outputs": [],
   "source": []
  },
  {
   "cell_type": "code",
   "execution_count": 63,
   "id": "06c51b80-a497-4fcc-8403-d5fddab9ccf2",
   "metadata": {},
   "outputs": [
    {
     "data": {
      "text/plain": [
       "5000"
      ]
     },
     "execution_count": 63,
     "metadata": {},
     "output_type": "execute_result"
    }
   ],
   "source": [
    "len(cv.get_feature_names_out())"
   ]
  },
  {
   "cell_type": "code",
   "execution_count": 64,
   "id": "e64377db-e800-4d0c-8f80-9a0f1f214b68",
   "metadata": {},
   "outputs": [],
   "source": [
    "#STEMMING AND COUNTVECTOT"
   ]
  },
  {
   "cell_type": "code",
   "execution_count": 65,
   "id": "1fd4b21c-24d3-4d3e-81f2-a74dd76b3906",
   "metadata": {},
   "outputs": [],
   "source": [
    "import nltk\n",
    "from nltk.stem.porter import PorterStemmer\n",
    "ps = PorterStemmer()"
   ]
  },
  {
   "cell_type": "code",
   "execution_count": 66,
   "id": "898569bd-d946-499e-9b60-6df21803d8d8",
   "metadata": {},
   "outputs": [],
   "source": [
    "def stem(text):\n",
    "    y=[]\n",
    "    for i in text.split():\n",
    "        y.append(ps.stem(i))\n",
    "    return ' '.join(y)"
   ]
  },
  {
   "cell_type": "code",
   "execution_count": 67,
   "id": "46526c8a-50e9-437c-9733-22e3b111c165",
   "metadata": {},
   "outputs": [
    {
     "data": {
      "text/plain": [
       "0       in the 22nd century, a parapleg marin is dispa...\n",
       "1       captain barbossa, long believ to be dead, ha c...\n",
       "2       a cryptic messag from bond’ past send him on a...\n",
       "3       follow the death of district attorney harvey d...\n",
       "4       john carter is a war-weary, former militari ca...\n",
       "                              ...                        \n",
       "4779    conveni and video store clerk dant and randal ...\n",
       "4787    sasha tri to get her soon-to-b ex husband kyle...\n",
       "4797    recent dump by hi girlfirend for anoth man, wo...\n",
       "4802    friends/fledgl entrepreneur invent a devic in ...\n",
       "4807    when ambiti new york attorney sam is sent to s...\n",
       "Name: tags, Length: 1494, dtype: object"
      ]
     },
     "execution_count": 67,
     "metadata": {},
     "output_type": "execute_result"
    }
   ],
   "source": [
    "df['tags'].apply(stem)"
   ]
  },
  {
   "cell_type": "code",
   "execution_count": 68,
   "id": "dd361101-fbc3-4a89-80b4-453b98267426",
   "metadata": {},
   "outputs": [],
   "source": [
    "df['tags']=df['tags'].apply(stem)"
   ]
  },
  {
   "cell_type": "code",
   "execution_count": 69,
   "id": "50c8e5aa-6d41-429f-a7b8-4069d3b42631",
   "metadata": {},
   "outputs": [
    {
     "data": {
      "text/plain": [
       "array([1.        , 0.08035074, 0.05437272, ..., 0.        , 0.05437272,\n",
       "       0.02469324])"
      ]
     },
     "execution_count": 69,
     "metadata": {},
     "output_type": "execute_result"
    }
   ],
   "source": [
    "from sklearn.metrics.pairwise import cosine_similarity\n",
    "similarity = cosine_similarity(vectors)\n",
    "similarity[0]"
   ]
  },
  {
   "cell_type": "code",
   "execution_count": 70,
   "id": "b3e7eb2e-e8b1-4c26-ad3e-c85cbbe8266f",
   "metadata": {},
   "outputs": [
    {
     "data": {
      "text/plain": [
       "[(0, 1.0000000000000002),\n",
       " (1, 0.08035073760083702),\n",
       " (2, 0.05437272478270369),\n",
       " (3, 0.035366392784487034),\n",
       " (4, 0.16671392788033934),\n",
       " (5, 0.1082870204560525),\n",
       " (6, 0.017914359097500464),\n",
       " (7, 0.15946199115053014),\n",
       " (8, 0.053567158400558014),\n",
       " (9, 0.07063224140220167),\n",
       " (10, 0.07407971974871923),\n",
       " (11, 0.0828236445561349),\n",
       " (12, 0.039668175187900966),\n",
       " (13, 0.10411584125907071),\n",
       " (14, 0.07407971974871923),\n",
       " (15, 0.13355763199075443),\n",
       " (16, 0.10253309789938275),\n",
       " (17, 0.07520444621829453),\n",
       " (18, 0.05238227218271836),\n",
       " (19, 0.08700221858486124),\n",
       " (20, 0.05437272478270369),\n",
       " (21, 0.09016696346674324),\n",
       " (22, 0.05271276298289175),\n",
       " (23, 0.15617376188860607),\n",
       " (24, 0.10874544956540738),\n",
       " (25, 0.060485837890913385),\n",
       " (26, 0.06762522260005743),\n",
       " (27, 0.15027827244457206),\n",
       " (28, 0.0850102284084451),\n",
       " (29, 0.08700221858486124),\n",
       " (30, 0.16671392788033934),\n",
       " (31, 0.07702442489446452),\n",
       " (32, 0.05723898513889476),\n",
       " (33, 0.07502344849205331),\n",
       " (34, 0.04819626927118799),\n",
       " (35, 0.13121220505220862),\n",
       " (36, 0.0),\n",
       " (37, 0.11043152607484655),\n",
       " (38, 0.03681050869161552),\n",
       " (39, 0.086629616364842),\n",
       " (40, 0.16070147520167405),\n",
       " (41, 0.061519858739629646),\n",
       " (42, 0.10874544956540738),\n",
       " (43, 0.07311502501351116),\n",
       " (44, 0.15404884978892902),\n",
       " (45, 0.04556056890015147),\n",
       " (46, 0.031234752377721216),\n",
       " (47, 0.0631037291856266),\n",
       " (48, 0.02567480829815484),\n",
       " (49, 0.07311502501351116),\n",
       " (50, 0.023544080467400558),\n",
       " (51, 0.20447945297729914),\n",
       " (52, 0.06984302957695782),\n",
       " (53, 0.028049635672660722),\n",
       " (54, 0.018938850476964256),\n",
       " (55, 0.1631181743481111),\n",
       " (56, 0.12251277836633778),\n",
       " (57, 0.04331480818242099),\n",
       " (58, 0.07502344849205331),\n",
       " (59, 0.11043152607484653),\n",
       " (60, 0.03329635791060134),\n",
       " (61, 0.2028756678001723),\n",
       " (62, 0.07063224140220167),\n",
       " (63, 0.013644964930609012),\n",
       " (64, 0.07063224140220167),\n",
       " (65, 0.0315518645928133),\n",
       " (66, 0.09323922072849748),\n",
       " (67, 0.07502344849205331),\n",
       " (68, 0.09563650695950074),\n",
       " (69, 0.07317073170731708),\n",
       " (70, 0.10874544956540738),\n",
       " (71, 0.08553989227683015),\n",
       " (72, 0.056790458868584026),\n",
       " (73, 0.1402481783633036),\n",
       " (74, 0.06099627595216836),\n",
       " (75, 0.15314097295792223),\n",
       " (76, 0.11155268706329005),\n",
       " (77, 0.08155908717405554),\n",
       " (78, 0.07317073170731708),\n",
       " (79, 0.06659271582120269),\n",
       " (80, 0.08414890701798217),\n",
       " (81, 0.0999800059980007),\n",
       " (82, 0.07870417814679402),\n",
       " (83, 0.05521576303742327),\n",
       " (84, 0.09563650695950075),\n",
       " (85, 0.03904344047215152),\n",
       " (86, 0.08064778385455118),\n",
       " (87, 0.1546041365047852),\n",
       " (88, 0.1283740414907742),\n",
       " (89, 0.046562019717971886),\n",
       " (90, 0.04373740168406954),\n",
       " (91, 0.04878048780487805),\n",
       " (92, 0.04556056890015147),\n",
       " (93, 0.05800147905657416),\n",
       " (94, 0.015539870121416248),\n",
       " (95, 0.042904232014014415),\n",
       " (96, 0.0),\n",
       " (97, 0.0828236445561349),\n",
       " (98, 0.09016696346674324),\n",
       " (99, 0.061519858739629646),\n",
       " (100, 0.09417632186960223),\n",
       " (101, 0.12378237474570462),\n",
       " (102, 0.08132836793622449),\n",
       " (103, 0.026028960314767677),\n",
       " (104, 0.10003126465607107),\n",
       " (105, 0.059502262781851445),\n",
       " (106, 0.030055654488914414),\n",
       " (107, 0.12493900951088487),\n",
       " (108, 0.0),\n",
       " (109, 0.022780284450075735),\n",
       " (110, 0.03187883565316692),\n",
       " (111, 0.07702442489446452),\n",
       " (112, 0.09760860118037878),\n",
       " (113, 0.09988907373180403),\n",
       " (114, 0.08035073760083702),\n",
       " (115, 0.05800147905657416),\n",
       " (116, 0.09563650695950075),\n",
       " (117, 0.15914876753019166),\n",
       " (118, 0.1840525434580776),\n",
       " (119, 0.05800147905657416),\n",
       " (120, 0.07520444621829453),\n",
       " (121, 0.030628194591584446),\n",
       " (122, 0.0),\n",
       " (123, 0.09370425713316365),\n",
       " (124, 0.06246950475544243),\n",
       " (125, 0.08841598196121758),\n",
       " (126, 0.047632550822954096),\n",
       " (127, 0.10529232878566533),\n",
       " (128, 0.0850102284084451),\n",
       " (129, 0.027186362391351845),\n",
       " (130, 0.02254174086668581),\n",
       " (131, 0.04819626927118799),\n",
       " (132, 0.029514066805047763),\n",
       " (133, 0.0),\n",
       " (134, 0.02208630521496931),\n",
       " (135, 0.02068572009460303),\n",
       " (136, 0.02068572009460303),\n",
       " (137, 0.0975609756097561),\n",
       " (138, 0.0681598176590997),\n",
       " (139, 0.1530809058942434),\n",
       " (140, 0.01853441561005319),\n",
       " (141, 0.07575540190785703),\n",
       " (142, 0.0685691896140358),\n",
       " (143, 0.053567158400558014),\n",
       " (144, 0.04462107482531602),\n",
       " (145, 0.056099271345321444),\n",
       " (146, 0.10166045992028061),\n",
       " (147, 0.06659271582120269),\n",
       " (148, 0.0),\n",
       " (149, 0.028049635672660722),\n",
       " (150, 0.02231053741265801),\n",
       " (151, 0.07362101738323104),\n",
       " (152, 0.1010438990763711),\n",
       " (153, 0.03187883565316692),\n",
       " (154, 0.022780284450075735),\n",
       " (155, 0.06762522260005743),\n",
       " (156, 0.05902813361009551),\n",
       " (157, 0.056099271345321444),\n",
       " (158, 0.042904232014014415),\n",
       " (159, 0.03904344047215152),\n",
       " (160, 0.17400443716972247),\n",
       " (161, 0.05238227218271836),\n",
       " (162, 0.047632550822954096),\n",
       " (163, 0.02851329742561005),\n",
       " (164, 0.08155908717405554),\n",
       " (165, 0.11772040233700279),\n",
       " (166, 0.0685691896140358),\n",
       " (167, 0.070283683977189),\n",
       " (168, 0.0),\n",
       " (169, 0.11805626722019105),\n",
       " (170, 0.09563650695950075),\n",
       " (171, 0.0631753972713992),\n",
       " (172, 0.052057920629535355),\n",
       " (173, 0.10967253752026676),\n",
       " (174, 0.09917043796975242),\n",
       " (175, 0.07702442489446452),\n",
       " (176, 0.08035073760083702),\n",
       " (177, 0.05800147905657416),\n",
       " (178, 0.08414890701798217),\n",
       " (179, 0.0),\n",
       " (180, 0.12493900951088487),\n",
       " (181, 0.01827875625337779),\n",
       " (182, 0.060485837890913385),\n",
       " (183, 0.06625891564490793),\n",
       " (184, 0.0),\n",
       " (185, 0.07362101738323104),\n",
       " (186, 0.0791945516022682),\n",
       " (187, 0.01546350666114275),\n",
       " (188, 0.22439708538128578),\n",
       " (189, 0.06435634802102162),\n",
       " (190, 0.06512896090258362),\n",
       " (191, 0.029514066805047763),\n",
       " (192, 0.09417632186960223),\n",
       " (193, 0.07407971974871923),\n",
       " (194, 0.05723898513889476),\n",
       " (195, 0.0),\n",
       " (196, 0.06762522260005743),\n",
       " (197, 0.0),\n",
       " (198, 0.019370971105651495),\n",
       " (199, 0.019676044536698505),\n",
       " (200, 0.02050661957987655),\n",
       " (201, 0.025007816164017767),\n",
       " (202, 0.05800147905657416),\n",
       " (203, 0.09016696346674324),\n",
       " (204, 0.03187883565316692),\n",
       " (205, 0.101338918387628),\n",
       " (206, 0.03733266964732787),\n",
       " (207, 0.0),\n",
       " (208, 0.1679970134129754),\n",
       " (209, 0.05437272478270369),\n",
       " (210, 0.08776207771572381),\n",
       " (211, 0.06375767130633384),\n",
       " (212, 0.03348716954670953),\n",
       " (213, 0.10269923319261937),\n",
       " (214, 0.07575540190785703),\n",
       " (215, 0.0),\n",
       " (216, 0.0),\n",
       " (217, 0.030055654488914414),\n",
       " (218, 0.09188458377475334),\n",
       " (219, 0.05437272478270369),\n",
       " (220, 0.026028960314767677),\n",
       " (221, 0.0),\n",
       " (222, 0.07229440390678199),\n",
       " (223, 0.09639253854237598),\n",
       " (224, 0.04462107482531602),\n",
       " (225, 0.056099271345321444),\n",
       " (226, 0.02254174086668581),\n",
       " (227, 0.052796367734845466),\n",
       " (228, 0.12378237474570462),\n",
       " (229, 0.020869596778242055),\n",
       " (230, 0.0),\n",
       " (231, 0.053567158400558014),\n",
       " (232, 0.0),\n",
       " (233, 0.021252557102111276),\n",
       " (234, 0.0),\n",
       " (235, 0.08155908717405554),\n",
       " (236, 0.0),\n",
       " (237, 0.059028133610095526),\n",
       " (238, 0.05800147905657416),\n",
       " (239, 0.053567158400558014),\n",
       " (240, 0.09016696346674324),\n",
       " (241, 0.07407971974871923),\n",
       " (242, 0.0),\n",
       " (243, 0.12022261795565765),\n",
       " (244, 0.05134961659630968),\n",
       " (245, 0.0351418419885945),\n",
       " (246, 0.02567480829815484),\n",
       " (247, 0.0),\n",
       " (248, 0.0),\n",
       " (249, 0.021252557102111276),\n",
       " (250, 0.0),\n",
       " (251, 0.09188458377475334),\n",
       " (252, 0.026398183867422733),\n",
       " (253, 0.05271276298289175),\n",
       " (254, 0.02900073952828708),\n",
       " (255, 0.025007816164017767),\n",
       " (256, 0.050669459193814),\n",
       " (257, 0.05134961659630968),\n",
       " (258, 0.0),\n",
       " (259, 0.023544080467400558),\n",
       " (260, 0.08553989227683015),\n",
       " (261, 0.050015632328035534),\n",
       " (262, 0.06011130897782883),\n",
       " (263, 0.02851329742561005),\n",
       " (264, 0.020161945963637795),\n",
       " (265, 0.02050661957987655),\n",
       " (266, 0.03187883565316692),\n",
       " (267, 0.050669459193814),\n",
       " (268, 0.06659271582120269),\n",
       " (269, 0.03492151478847891),\n",
       " (270, 0.06693161223797403),\n",
       " (271, 0.04819626927118799),\n",
       " (272, 0.03787770095392851),\n",
       " (273, 0.06693161223797403),\n",
       " (274, 0.054100178080045934),\n",
       " (275, 0.026783579200279007),\n",
       " (276, 0.029514066805047763),\n",
       " (277, 0.03256448045129181),\n",
       " (278, 0.0),\n",
       " (279, 0.026783579200279007),\n",
       " (280, 0.02851329742561005),\n",
       " (281, 0.026398183867422733),\n",
       " (282, 0.029514066805047763),\n",
       " (283, 0.03606678538669729),\n",
       " (284, 0.026398183867422733),\n",
       " (285, 0.19127301391900148),\n",
       " (286, 0.06560610252610431),\n",
       " (287, 0.09312403943594377),\n",
       " (288, 0.09370425713316365),\n",
       " (289, 0.08730378697119727),\n",
       " (290, 0.028049635672660722),\n",
       " (291, 0.05142689221052685),\n",
       " (292, 0.0),\n",
       " (293, 0.1433148727800037),\n",
       " (294, 0.018033392693348645),\n",
       " (295, 0.0),\n",
       " (296, 0.19127301391900148),\n",
       " (297, 0.0),\n",
       " (298, 0.07933635037580193),\n",
       " (299, 0.0),\n",
       " (300, 0.03407990882954985),\n",
       " (301, 0.09639253854237598),\n",
       " (302, 0.05521576303742327),\n",
       " (303, 0.047632550822954096),\n",
       " (304, 0.023544080467400558),\n",
       " (305, 0.0),\n",
       " (306, 0.024390243902439025),\n",
       " (307, 0.043314808182421),\n",
       " (308, 0.0),\n",
       " (309, 0.0),\n",
       " (310, 0.09016696346674324),\n",
       " (311, 0.06375767130633384),\n",
       " (312, 0.06375767130633384),\n",
       " (313, 0.08423386302853227),\n",
       " (314, 0.06246950475544243),\n",
       " (315, 0.08035073760083702),\n",
       " (316, 0.11908137705738524),\n",
       " (317, 0.025334729596907),\n",
       " (318, 0.04066418396811224),\n",
       " (319, 0.0),\n",
       " (320, 0.030055654488914414),\n",
       " (321, 0.0),\n",
       " (322, 0.0),\n",
       " (323, 0.038447322405439625),\n",
       " (324, 0.021252557102111276),\n",
       " (325, 0.1359318119567592),\n",
       " (326, 0.023026564952925203),\n",
       " (327, 0.020161945963637795),\n",
       " (328, 0.022780284450075735),\n",
       " (329, 0.13391789600139503),\n",
       " (330, 0.058112913316954486),\n",
       " (331, 0.22086305214969312),\n",
       " (332, 0.0),\n",
       " (333, 0.043314808182421),\n",
       " (334, 0.025334729596907),\n",
       " (335, 0.07229440390678199),\n",
       " (336, 0.0),\n",
       " (337, 0.049386479832479485),\n",
       " (338, 0.03787770095392851),\n",
       " (339, 0.06375767130633384),\n",
       " (340, 0.0),\n",
       " (341, 0.0),\n",
       " (342, 0.060485837890913385),\n",
       " (343, 0.04373740168406954),\n",
       " (344, 0.02231053741265801),\n",
       " (345, 0.061519858739629646),\n",
       " (346, 0.052796367734845466),\n",
       " (347, 0.07407971974871923),\n",
       " (348, 0.0),\n",
       " (349, 0.06125638918316889),\n",
       " (350, 0.018801111554573632),\n",
       " (351, 0.0),\n",
       " (352, 0.02851329742561005),\n",
       " (353, 0.021058465757133066),\n",
       " (354, 0.07702442489446452),\n",
       " (355, 0.08035073760083702),\n",
       " (356, 0.047632550822954096),\n",
       " (357, 0.03407990882954985),\n",
       " (358, 0.0),\n",
       " (359, 0.0),\n",
       " (360, 0.09877295966495897),\n",
       " (361, 0.05134961659630968),\n",
       " (362, 0.0),\n",
       " (363, 0.0),\n",
       " (364, 0.017460757394239454),\n",
       " (365, 0.10748615458500278),\n",
       " (366, 0.08064778385455118),\n",
       " (367, 0.032388929412563196),\n",
       " (368, 0.046562019717971886),\n",
       " (369, 0.0),\n",
       " (370, 0.050015632328035534),\n",
       " (371, 0.06375767130633384),\n",
       " (372, 0.03187883565316692),\n",
       " (373, 0.04819626927118799),\n",
       " (374, 0.050669459193814),\n",
       " (375, 0.02208630521496931),\n",
       " (376, 0.0683408533502272),\n",
       " (377, 0.04556056890015147),\n",
       " (378, 0.0),\n",
       " (379, 0.07502344849205331),\n",
       " (380, 0.02231053741265801),\n",
       " (381, 0.0),\n",
       " (382, 0.0),\n",
       " (383, 0.10411584125907071),\n",
       " (384, 0.04605312990585041),\n",
       " (385, 0.0),\n",
       " (386, 0.026398183867422733),\n",
       " (387, 0.09188458377475334),\n",
       " (388, 0.11155268706329005),\n",
       " (389, 0.0),\n",
       " (390, 0.02050661957987655),\n",
       " (391, 0.06512896090258362),\n",
       " (392, 0.02851329742561005),\n",
       " (393, 0.059028133610095526),\n",
       " (394, 0.02231053741265801),\n",
       " (395, 0.023281009858985943),\n",
       " (396, 0.024098134635593994),\n",
       " (397, 0.0),\n",
       " (398, 0.09563650695950075),\n",
       " (399, 0.0),\n",
       " (400, 0.0),\n",
       " (401, 0.025007816164017767),\n",
       " (402, 0.0),\n",
       " (403, 0.024390243902439025),\n",
       " (404, 0.0),\n",
       " (405, 0.07144882623443115),\n",
       " (406, 0.015027827244457207),\n",
       " (407, 0.046562019717971886),\n",
       " (408, 0.03582871819500093),\n",
       " (409, 0.05521576303742327),\n",
       " (410, 0.052796367734845466),\n",
       " (411, 0.021452116007007208),\n",
       " (412, 0.0),\n",
       " (413, 0.04556056890015147),\n",
       " (414, 0.03256448045129181),\n",
       " (415, 0.1283740414907742),\n",
       " (416, 0.025007816164017767),\n",
       " (417, 0.027607881518711633),\n",
       " (418, 0.0),\n",
       " (419, 0.046562019717971886),\n",
       " (420, 0.059988003598800424),\n",
       " (421, 0.07808688094430304),\n",
       " (422, 0.10626278551055637),\n",
       " (423, 0.11772040233700279),\n",
       " (424, 0.09188458377475334),\n",
       " (425, 0.06693161223797403),\n",
       " (426, 0.03187883565316692),\n",
       " (427, 0.07063224140220167),\n",
       " (428, 0.042904232014014415),\n",
       " (429, 0.06375767130633384),\n",
       " (430, 0.09188458377475334),\n",
       " (431, 0.05437272478270369),\n",
       " (432, 0.0216574040912105),\n",
       " (433, 0.0),\n",
       " (434, 0.08571148701754475),\n",
       " (435, 0.07575540190785703),\n",
       " (436, 0.0),\n",
       " (437, 0.049386479832479485),\n",
       " (438, 0.052796367734845466),\n",
       " (439, 0.050015632328035534),\n",
       " (440, 0.025007816164017767),\n",
       " (441, 0.030628194591584446),\n",
       " (442, 0.0),\n",
       " (443, 0.026783579200279007),\n",
       " (444, 0.061519858739629646),\n",
       " (445, 0.0),\n",
       " (446, 0.0),\n",
       " (447, 0.05223962422083869),\n",
       " (448, 0.0),\n",
       " (449, 0.0),\n",
       " (450, 0.016462159944159827),\n",
       " (451, 0.0410132391597531),\n",
       " (452, 0.0),\n",
       " (453, 0.0),\n",
       " (454, 0.027607881518711633),\n",
       " (455, 0.023816275411477048),\n",
       " (456, 0.0),\n",
       " (457, 0.027607881518711633),\n",
       " (458, 0.027607881518711633),\n",
       " (459, 0.0),\n",
       " (460, 0.07407971974871923),\n",
       " (461, 0.05205792062953536),\n",
       " (462, 0.047632550822954096),\n",
       " (463, 0.0),\n",
       " (464, 0.04173919355648411),\n",
       " (465, 0.018666334823663935),\n",
       " (466, 0.09112113780030294),\n",
       " (467, 0.07229440390678199),\n",
       " (468, 0.10559273546969093),\n",
       " (469, 0.03187883565316692),\n",
       " (470, 0.07229440390678199),\n",
       " (471, 0.0),\n",
       " (472, 0.02050661957987655),\n",
       " (473, 0.03329635791060134),\n",
       " (474, 0.0),\n",
       " (475, 0.028049635672660722),\n",
       " (476, 0.0),\n",
       " (477, 0.0),\n",
       " (478, 0.09188458377475334),\n",
       " (479, 0.019370971105651495),\n",
       " (480, 0.0),\n",
       " (481, 0.04462107482531602),\n",
       " (482, 0.06984302957695783),\n",
       " (483, 0.11622582663390899),\n",
       " (484, 0.0),\n",
       " (485, 0.02851329742561005),\n",
       " (486, 0.0),\n",
       " (487, 0.0),\n",
       " (488, 0.0),\n",
       " (489, 0.08700221858486124),\n",
       " (490, 0.046562019717971886),\n",
       " (491, 0.0),\n",
       " (492, 0.03582871819500093),\n",
       " (493, 0.0),\n",
       " (494, 0.0),\n",
       " (495, 0.07063224140220167),\n",
       " (496, 0.08553989227683015),\n",
       " (497, 0.04032389192727559),\n",
       " (498, 0.0),\n",
       " (499, 0.028049635672660722),\n",
       " (500, 0.0),\n",
       " (501, 0.0683408533502272),\n",
       " (502, 0.0),\n",
       " (503, 0.04605312990585041),\n",
       " (504, 0.062057160283809094),\n",
       " (505, 0.047088160934801115),\n",
       " (506, 0.05134961659630968),\n",
       " (507, 0.0690796948587756),\n",
       " (508, 0.0216574040912105),\n",
       " (509, 0.047088160934801115),\n",
       " (510, 0.050669459193814),\n",
       " (511, 0.126673647984535),\n",
       " (512, 0.04211693151426613),\n",
       " (513, 0.0),\n",
       " (514, 0.0),\n",
       " (515, 0.0),\n",
       " (516, 0.0),\n",
       " (517, 0.0336812996921237),\n",
       " (518, 0.028049635672660722),\n",
       " (519, 0.028049635672660722),\n",
       " (520, 0.059028133610095526),\n",
       " (521, 0.0),\n",
       " (522, 0.0570265948512201),\n",
       " (523, 0.052796367734845466),\n",
       " (524, 0.052796367734845466),\n",
       " (525, 0.09417632186960223),\n",
       " (526, 0.09139378126688896),\n",
       " (527, 0.06693161223797403),\n",
       " (528, 0.052796367734845466),\n",
       " (529, 0.019834087593950483),\n",
       " (530, 0.02186870084203477),\n",
       " (531, 0.03874194221130299),\n",
       " (532, 0.04173919355648411),\n",
       " (533, 0.0),\n",
       " (534, 0.030628194591584446),\n",
       " (535, 0.07808688094430304),\n",
       " (536, 0.031234752377721216),\n",
       " (537, 0.022780284450075735),\n",
       " (538, 0.024693239916239743),\n",
       " (539, 0.04819626927118799),\n",
       " (540, 0.02033209198405612),\n",
       " (541, 0.024098134635593994),\n",
       " (542, 0.02208630521496931),\n",
       " (543, 0.053567158400558014),\n",
       " (544, 0.03630966210657986),\n",
       " (545, 0.04462107482531602),\n",
       " (546, 0.08414890701798217),\n",
       " (547, 0.024098134635593994),\n",
       " (548, 0.023816275411477048),\n",
       " (549, 0.052796367734845466),\n",
       " (550, 0.0),\n",
       " (551, 0.031234752377721216),\n",
       " (552, 0.042904232014014415),\n",
       " (553, 0.10748615458500278),\n",
       " (554, 0.022780284450075735),\n",
       " (555, 0.07702442489446452),\n",
       " (556, 0.0),\n",
       " (557, 0.0),\n",
       " (558, 0.02567480829815484),\n",
       " (559, 0.06693161223797403),\n",
       " (560, 0.06375767130633384),\n",
       " (561, 0.0),\n",
       " (562, 0.0),\n",
       " (563, 0.031234752377721216),\n",
       " (564, 0.023816275411477048),\n",
       " (565, 0.02900073952828708),\n",
       " (566, 0.0),\n",
       " (567, 0.0),\n",
       " (568, 0.0),\n",
       " (569, 0.0),\n",
       " (570, 0.04032389192727559),\n",
       " (571, 0.0),\n",
       " (572, 0.027607881518711633),\n",
       " (573, 0.026028960314767677),\n",
       " (574, 0.18376916754950667),\n",
       " (575, 0.0410132391597531),\n",
       " (576, 0.08035073760083702),\n",
       " (577, 0.03492151478847891),\n",
       " (578, 0.0),\n",
       " (579, 0.2243232584059758),\n",
       " (580, 0.1301448015738384),\n",
       " (581, 0.0),\n",
       " (582, 0.023026564952925203),\n",
       " (583, 0.0),\n",
       " (584, 0.0),\n",
       " (585, 0.025007816164017767),\n",
       " (586, 0.018801111554573632),\n",
       " (587, 0.0),\n",
       " (588, 0.04878048780487805),\n",
       " (589, 0.0),\n",
       " (590, 0.02567480829815484),\n",
       " (591, 0.07362101738323104),\n",
       " (592, 0.02900073952828708),\n",
       " (593, 0.050015632328035534),\n",
       " (594, 0.11219854269064289),\n",
       " (595, 0.0),\n",
       " (596, 0.0),\n",
       " (597, 0.047632550822954096),\n",
       " (598, 0.07502344849205331),\n",
       " (599, 0.0),\n",
       " (600, 0.0),\n",
       " (601, 0.0683408533502272),\n",
       " (602, 0.06125638918316889),\n",
       " (603, 0.03681050869161552),\n",
       " (604, 0.0),\n",
       " (605, 0.03407990882954985),\n",
       " (606, 0.0),\n",
       " (607, 0.15617376188860607),\n",
       " (608, 0.1230397174792593),\n",
       " (609, 0.0649722122736315),\n",
       " (610, 0.19127301391900148),\n",
       " (611, 0.0),\n",
       " (612, 0.0),\n",
       " (613, 0.021452116007007208),\n",
       " (614, 0.0),\n",
       " (615, 0.01815483105328993),\n",
       " (616, 0.02900073952828708),\n",
       " (617, 0.0),\n",
       " (618, 0.06099627595216836),\n",
       " (619, 0.0),\n",
       " (620, 0.059988003598800424),\n",
       " (621, 0.06011130897782883),\n",
       " (622, 0.07362101738323104),\n",
       " (623, 0.03407990882954985),\n",
       " (624, 0.0),\n",
       " (625, 0.09112113780030294),\n",
       " (626, 0.0),\n",
       " (627, 0.0),\n",
       " (628, 0.0),\n",
       " (629, 0.05902813361009551),\n",
       " (630, 0.023281009858985943),\n",
       " (631, 0.0),\n",
       " (632, 0.0),\n",
       " (633, 0.06375767130633384),\n",
       " (634, 0.0),\n",
       " (635, 0.020869596778242055),\n",
       " (636, 0.02851329742561005),\n",
       " (637, 0.0),\n",
       " (638, 0.0),\n",
       " (639, 0.0),\n",
       " (640, 0.07808688094430304),\n",
       " (641, 0.02900073952828708),\n",
       " (642, 0.0820264783195062),\n",
       " (643, 0.027607881518711633),\n",
       " (644, 0.017246506858208475),\n",
       " (645, 0.0),\n",
       " (646, 0.0),\n",
       " (647, 0.0),\n",
       " (648, 0.038447322405439625),\n",
       " (649, 0.015168936699355278),\n",
       " (650, 0.0),\n",
       " (651, 0.02851329742561005),\n",
       " (652, 0.0),\n",
       " (653, 0.04032389192727559),\n",
       " (654, 0.0),\n",
       " (655, 0.0),\n",
       " (656, 0.03204617977228226),\n",
       " (657, 0.023816275411477048),\n",
       " (658, 0.021252557102111276),\n",
       " (659, 0.021252557102111276),\n",
       " (660, 0.03187883565316692),\n",
       " (661, 0.047088160934801115),\n",
       " (662, 0.08700221858486124),\n",
       " (663, 0.026028960314767677),\n",
       " (664, 0.058112913316954486),\n",
       " (665, 0.1363196353181994),\n",
       " (666, 0.030628194591584446),\n",
       " (667, 0.03187883565316692),\n",
       " (668, 0.0820264783195062),\n",
       " (669, 0.0),\n",
       " (670, 0.0),\n",
       " (671, 0.023816275411477048),\n",
       " (672, 0.026398183867422733),\n",
       " (673, 0.019834087593950483),\n",
       " (674, 0.026028960314767677),\n",
       " (675, 0.11270870433342906),\n",
       " (676, 0.0),\n",
       " (677, 0.0791945516022682),\n",
       " (678, 0.019676044536698505),\n",
       " (679, 0.022780284450075735),\n",
       " (680, 0.04250511420422255),\n",
       " (681, 0.1648085632718039),\n",
       " (682, 0.0),\n",
       " (683, 0.0),\n",
       " (684, 0.03681050869161552),\n",
       " (685, 0.0),\n",
       " (686, 0.076004188790721),\n",
       " (687, 0.0),\n",
       " (688, 0.024098134635593994),\n",
       " (689, 0.026783579200279007),\n",
       " (690, 0.01735264020984512),\n",
       " (691, 0.01952172023607576),\n",
       " (692, 0.10967253752026676),\n",
       " (693, 0.017914359097500464),\n",
       " (694, 0.03187883565316692),\n",
       " (695, 0.0),\n",
       " (696, 0.0),\n",
       " (697, 0.04556056890015147),\n",
       " (698, 0.04250511420422255),\n",
       " (699, 0.02567480829815484),\n",
       " (700, 0.0),\n",
       " (701, 0.061519858739629646),\n",
       " (702, 0.0),\n",
       " (703, 0.06375767130633384),\n",
       " (704, 0.05800147905657416),\n",
       " (705, 0.03904344047215152),\n",
       " (706, 0.0),\n",
       " (707, 0.0),\n",
       " (708, 0.026028960314767677),\n",
       " (709, 0.10411584125907071),\n",
       " (710, 0.031234752377721216),\n",
       " (711, 0.0),\n",
       " (712, 0.0),\n",
       " (713, 0.0),\n",
       " (714, 0.05142689221052685),\n",
       " (715, 0.0),\n",
       " (716, 0.019370971105651495),\n",
       " (717, 0.07933635037580193),\n",
       " (718, 0.025007816164017767),\n",
       " (719, 0.025007816164017767),\n",
       " (720, 0.024390243902439025),\n",
       " (721, 0.021058465757133066),\n",
       " (722, 0.017460757394239454),\n",
       " (723, 0.0),\n",
       " (724, 0.05681655143089277),\n",
       " (725, 0.0),\n",
       " (726, 0.02851329742561005),\n",
       " (727, 0.0),\n",
       " (728, 0.0),\n",
       " (729, 0.02900073952828708),\n",
       " (730, 0.050818268498635674),\n",
       " (731, 0.042904232014014415),\n",
       " (732, 0.06099627595216836),\n",
       " (733, 0.03492151478847891),\n",
       " (734, 0.09016696346674324),\n",
       " (735, 0.04878048780487805),\n",
       " (736, 0.0),\n",
       " (737, 0.06984302957695783),\n",
       " (738, 0.0),\n",
       " (739, 0.053567158400558014),\n",
       " (740, 0.0),\n",
       " (741, 0.0),\n",
       " (742, 0.0),\n",
       " (743, 0.056099271345321444),\n",
       " (744, 0.050015632328035534),\n",
       " (745, 0.02186870084203477),\n",
       " (746, 0.09563650695950075),\n",
       " (747, 0.0),\n",
       " (748, 0.04373740168406954),\n",
       " (749, 0.02900073952828708),\n",
       " (750, 0.11997600719760085),\n",
       " (751, 0.0),\n",
       " (752, 0.03706883122010638),\n",
       " (753, 0.052057920629535355),\n",
       " (754, 0.02900073952828708),\n",
       " (755, 0.0),\n",
       " (756, 0.021058465757133066),\n",
       " (757, 0.0),\n",
       " (758, 0.0),\n",
       " (759, 0.02186870084203477),\n",
       " (760, 0.0),\n",
       " (761, 0.0681598176590997),\n",
       " (762, 0.06984302957695782),\n",
       " (763, 0.01757092099429725),\n",
       " (764, 0.0),\n",
       " (765, 0.0),\n",
       " (766, 0.047632550822954096),\n",
       " (767, 0.03999200239920028),\n",
       " (768, 0.04032389192727559),\n",
       " (769, 0.0),\n",
       " (770, 0.023544080467400558),\n",
       " (771, 0.030055654488914414),\n",
       " (772, 0.02254174086668581),\n",
       " (773, 0.029514066805047763),\n",
       " (774, 0.0),\n",
       " (775, 0.0),\n",
       " (776, 0.0),\n",
       " (777, 0.0),\n",
       " (778, 0.0850102284084451),\n",
       " (779, 0.024098134635593994),\n",
       " (780, 0.023816275411477048),\n",
       " (781, 0.03256448045129181),\n",
       " (782, 0.02851329742561005),\n",
       " (783, 0.0),\n",
       " (784, 0.027607881518711633),\n",
       " (785, 0.01827875625337779),\n",
       " (786, 0.0),\n",
       " (787, 0.029514066805047763),\n",
       " (788, 0.017914359097500464),\n",
       " (789, 0.0),\n",
       " (790, 0.0),\n",
       " (791, 0.0),\n",
       " (792, 0.08132836793622449),\n",
       " (793, 0.03256448045129181),\n",
       " (794, 0.049114375944493555),\n",
       " (795, 0.0),\n",
       " (796, 0.0),\n",
       " (797, 0.0),\n",
       " (798, 0.09312403943594377),\n",
       " (799, 0.07808688094430304),\n",
       " (800, 0.06011130897782883),\n",
       " (801, 0.0),\n",
       " (802, 0.0),\n",
       " (803, 0.027186362391351845),\n",
       " (804, 0.126673647984535),\n",
       " (805, 0.0),\n",
       " (806, 0.02567480829815484),\n",
       " (807, 0.0),\n",
       " (808, 0.030055654488914414),\n",
       " (809, 0.0),\n",
       " (810, 0.0),\n",
       " (811, 0.0),\n",
       " (812, 0.0),\n",
       " (813, 0.04173919355648411),\n",
       " (814, 0.04032389192727559),\n",
       " (815, 0.02186870084203477),\n",
       " (816, 0.04211693151426613),\n",
       " (817, 0.0),\n",
       " (818, 0.0631753972713992),\n",
       " (819, 0.0),\n",
       " (820, 0.04137144018920606),\n",
       " (821, 0.0850102284084451),\n",
       " (822, 0.024098134635593994),\n",
       " (823, 0.024390243902439025),\n",
       " (824, 0.10411584125907071),\n",
       " (825, 0.024390243902439025),\n",
       " (826, 0.03187883565316692),\n",
       " (827, 0.03187883565316692),\n",
       " (828, 0.0),\n",
       " (829, 0.07063224140220167),\n",
       " (830, 0.056099271345321444),\n",
       " (831, 0.027607881518711633),\n",
       " (832, 0.0),\n",
       " (833, 0.046562019717971886),\n",
       " (834, 0.0),\n",
       " (835, 0.0),\n",
       " (836, 0.0),\n",
       " (837, 0.0690796948587756),\n",
       " (838, 0.06011130897782883),\n",
       " (839, 0.0),\n",
       " (840, 0.031234752377721216),\n",
       " (841, 0.0),\n",
       " (842, 0.027186362391351845),\n",
       " (843, 0.0),\n",
       " (844, 0.0),\n",
       " (845, 0.019676044536698505),\n",
       " (846, 0.0),\n",
       " (847, 0.0),\n",
       " (848, 0.052796367734845466),\n",
       " (849, 0.0),\n",
       " (850, 0.0),\n",
       " (851, 0.0),\n",
       " (852, 0.0),\n",
       " (853, 0.031234752377721216),\n",
       " (854, 0.03492151478847891),\n",
       " (855, 0.0),\n",
       " (856, 0.0),\n",
       " (857, 0.0),\n",
       " (858, 0.0),\n",
       " (859, 0.0),\n",
       " (860, 0.022780284450075735),\n",
       " (861, 0.030055654488914414),\n",
       " (862, 0.0),\n",
       " (863, 0.03606678538669729),\n",
       " (864, 0.0),\n",
       " (865, 0.021452116007007208),\n",
       " (866, 0.03256448045129181),\n",
       " (867, 0.0570265948512201),\n",
       " (868, 0.07502344849205331),\n",
       " (869, 0.02851329742561005),\n",
       " (870, 0.0),\n",
       " (871, 0.03999200239920028),\n",
       " (872, 0.050669459193814),\n",
       " (873, 0.025334729596907),\n",
       " (874, 0.0),\n",
       " (875, 0.028049635672660722),\n",
       " (876, 0.023281009858985943),\n",
       " (877, 0.02208630521496931),\n",
       " (878, 0.0),\n",
       " (879, 0.0),\n",
       " (880, 0.0),\n",
       " (881, 0.03256448045129181),\n",
       " (882, 0.04417261042993862),\n",
       " (883, 0.07575540190785703),\n",
       " (884, 0.18748505440195304),\n",
       " (885, 0.02900073952828708),\n",
       " (886, 0.0),\n",
       " (887, 0.043314808182421),\n",
       " (888, 0.0),\n",
       " (889, 0.03256448045129181),\n",
       " (890, 0.0),\n",
       " (891, 0.0),\n",
       " (892, 0.024098134635593994),\n",
       " (893, 0.030055654488914414),\n",
       " (894, 0.05521576303742327),\n",
       " (895, 0.03407990882954985),\n",
       " (896, 0.0),\n",
       " (897, 0.0),\n",
       " (898, 0.07144882623443115),\n",
       " (899, 0.0),\n",
       " (900, 0.0),\n",
       " (901, 0.0),\n",
       " (902, 0.0),\n",
       " (903, 0.08414890701798217),\n",
       " (904, 0.0),\n",
       " (905, 0.0),\n",
       " (906, 0.026398183867422733),\n",
       " (907, 0.06375767130633384),\n",
       " (908, 0.023544080467400558),\n",
       " (909, 0.0),\n",
       " (910, 0.0),\n",
       " (911, 0.0),\n",
       " (912, 0.06260879033472616),\n",
       " (913, 0.01262590031797617),\n",
       " (914, 0.027607881518711633),\n",
       " (915, 0.05134961659630968),\n",
       " (916, 0.0),\n",
       " (917, 0.08414890701798217),\n",
       " (918, 0.043314808182421),\n",
       " (919, 0.019223661202719813),\n",
       " (920, 0.0),\n",
       " (921, 0.06659271582120269),\n",
       " (922, 0.0),\n",
       " (923, 0.07165743639000186),\n",
       " (924, 0.0),\n",
       " (925, 0.0),\n",
       " (926, 0.0),\n",
       " (927, 0.0),\n",
       " (928, 0.0),\n",
       " (929, 0.030195774849848898),\n",
       " (930, 0.023281009858985943),\n",
       " (931, 0.0),\n",
       " (932, 0.0),\n",
       " (933, 0.023026564952925203),\n",
       " (934, 0.02186870084203477),\n",
       " (935, 0.025007816164017767),\n",
       " (936, 0.023026564952925203),\n",
       " (937, 0.024693239916239743),\n",
       " (938, 0.022780284450075735),\n",
       " (939, 0.07362101738323104),\n",
       " (940, 0.0),\n",
       " (941, 0.0),\n",
       " (942, 0.0),\n",
       " (943, 0.0),\n",
       " (944, 0.04250511420422255),\n",
       " (945, 0.0),\n",
       " (946, 0.031234752377721216),\n",
       " (947, 0.0),\n",
       " (948, 0.03904344047215152),\n",
       " (949, 0.025007816164017767),\n",
       " (950, 0.052796367734845466),\n",
       " (951, 0.04173919355648411),\n",
       " (952, 0.0),\n",
       " (953, 0.019223661202719813),\n",
       " (954, 0.0),\n",
       " (955, 0.024390243902439025),\n",
       " (956, 0.02254174086668581),\n",
       " (957, 0.03582871819500093),\n",
       " (958, 0.08420324923030925),\n",
       " (959, 0.0),\n",
       " (960, 0.023816275411477048),\n",
       " (961, 0.09769344135387542),\n",
       " (962, 0.02851329742561005),\n",
       " (963, 0.0),\n",
       " (964, 0.025007816164017767),\n",
       " (965, 0.024390243902439025),\n",
       " (966, 0.0),\n",
       " (967, 0.02208630521496931),\n",
       " (968, 0.028049635672660722),\n",
       " (969, 0.0),\n",
       " (970, 0.0),\n",
       " (971, 0.0),\n",
       " (972, 0.0),\n",
       " (973, 0.0),\n",
       " (974, 0.0),\n",
       " (975, 0.0),\n",
       " (976, 0.027607881518711633),\n",
       " (977, 0.0),\n",
       " (978, 0.0),\n",
       " (979, 0.0),\n",
       " (980, 0.02851329742561005),\n",
       " (981, 0.059502262781851445),\n",
       " (982, 0.03681050869161552),\n",
       " (983, 0.0),\n",
       " (984, 0.0),\n",
       " (985, 0.023281009858985943),\n",
       " (986, 0.030628194591584446),\n",
       " (987, 0.0),\n",
       " (988, 0.0),\n",
       " (989, 0.03582871819500093),\n",
       " (990, 0.021058465757133066),\n",
       " (991, 0.0),\n",
       " (992, 0.0570265948512201),\n",
       " (993, 0.0),\n",
       " (994, 0.0),\n",
       " (995, 0.0),\n",
       " (996, 0.030055654488914414),\n",
       " (997, 0.0),\n",
       " (998, 0.020161945963637795),\n",
       " (999, 0.0),\n",
       " ...]"
      ]
     },
     "execution_count": 70,
     "metadata": {},
     "output_type": "execute_result"
    }
   ],
   "source": [
    "list(enumerate(similarity[0]))"
   ]
  },
  {
   "cell_type": "code",
   "execution_count": 71,
   "id": "7dad242a-fe83-415d-8bdc-8708f68e75fe",
   "metadata": {
    "scrolled": true
   },
   "outputs": [
    {
     "data": {
      "text/plain": [
       "[(188, 0.22439708538128578),\n",
       " (579, 0.2243232584059758),\n",
       " (331, 0.22086305214969312),\n",
       " (1244, 0.2145211600700721),\n",
       " (51, 0.20447945297729914),\n",
       " (61, 0.2028756678001723),\n",
       " (285, 0.19127301391900148),\n",
       " (296, 0.19127301391900148),\n",
       " (610, 0.19127301391900148)]"
      ]
     },
     "execution_count": 71,
     "metadata": {},
     "output_type": "execute_result"
    }
   ],
   "source": [
    "sorted(list(enumerate(similarity[0])), reverse=True, key=lambda x:x[1])[1:10]"
   ]
  },
  {
   "cell_type": "code",
   "execution_count": 72,
   "id": "c7ba9058-c3a0-44d5-b273-29542c9d752d",
   "metadata": {},
   "outputs": [
    {
     "data": {
      "text/plain": [
       "'act'"
      ]
     },
     "execution_count": 72,
     "metadata": {},
     "output_type": "execute_result"
    }
   ],
   "source": [
    "ps.stem('acting')"
   ]
  },
  {
   "cell_type": "code",
   "execution_count": 73,
   "id": "35e0f9fc-40bc-4dbc-bb63-3443a0591bad",
   "metadata": {},
   "outputs": [],
   "source": [
    "def recomm(movie):\n",
    "    movie_index= df[df['title']==movie].index[0]\n",
    "    distance = similarity[movie_index]\n",
    "    movie_list= sorted(list(enumerate(distance)), reverse=True, key=lambda x:x[1])[1:10]\n",
    "    for i in movie_list:\n",
    "        # print(i[0])\n",
    "        print(df.iloc[i[0]].title)\n",
    "        \n",
    "    return "
   ]
  },
  {
   "cell_type": "code",
   "execution_count": 74,
   "id": "55993591-6fbb-4b44-a6d7-bc71984cd124",
   "metadata": {},
   "outputs": [
    {
     "name": "stdout",
     "output_type": "stream",
     "text": [
      "Ender's Game\n",
      "Aliens vs Predator: Requiem\n",
      "Battle: Los Angeles\n",
      "Apollo 18\n",
      "Jupiter Ascending\n",
      "Edge of Tomorrow\n",
      "The Time Machine\n",
      "Journey 2: The Mysterious Island\n",
      "The 5th Wave\n"
     ]
    }
   ],
   "source": [
    "recomm('Avatar')"
   ]
  },
  {
   "cell_type": "code",
   "execution_count": 75,
   "id": "49aa2519-03d7-4919-a6c8-606f89fdfc34",
   "metadata": {},
   "outputs": [
    {
     "name": "stdout",
     "output_type": "stream",
     "text": [
      "Ender's Game\n",
      "Aliens vs Predator: Requiem\n",
      "Battle: Los Angeles\n",
      "Apollo 18\n",
      "Jupiter Ascending\n",
      "Edge of Tomorrow\n",
      "The Time Machine\n",
      "Journey 2: The Mysterious Island\n",
      "The 5th Wave\n"
     ]
    }
   ],
   "source": [
    "recomm('Avatar')"
   ]
  },
  {
   "cell_type": "code",
   "execution_count": 76,
   "id": "eff177e0-aeaf-427c-aaf0-67f4a1754ac6",
   "metadata": {},
   "outputs": [
    {
     "name": "stdout",
     "output_type": "stream",
     "text": [
      "Kung Fu Panda\n",
      "Kung Fu Panda 2\n",
      "How to Train Your Dragon 2\n",
      "Cars 2\n",
      "Eragon\n",
      "Now You See Me 2\n",
      "Back to the Future Part II\n",
      "The Croods\n",
      "Foodfight!\n"
     ]
    }
   ],
   "source": [
    "recomm('Batman Begins')"
   ]
  },
  {
   "cell_type": "code",
   "execution_count": 77,
   "id": "a9051c54-44ed-461c-9021-4641543afecd",
   "metadata": {},
   "outputs": [
    {
     "data": {
      "text/plain": [
       "movie_id                                                  440\n",
       "title                             Aliens vs Predator: Requiem\n",
       "tags        a sequel to 2004' alien vs. predator, the icon...\n",
       "Name: 1214, dtype: object"
      ]
     },
     "execution_count": 77,
     "metadata": {},
     "output_type": "execute_result"
    }
   ],
   "source": [
    "df.iloc[579]"
   ]
  },
  {
   "cell_type": "code",
   "execution_count": null,
   "id": "da410ea6-9b1e-4bbe-b309-cd6805a41168",
   "metadata": {},
   "outputs": [],
   "source": []
  },
  {
   "cell_type": "code",
   "execution_count": 78,
   "id": "34b7a6af-5039-4482-a7a4-64941b405259",
   "metadata": {},
   "outputs": [
    {
     "data": {
      "text/plain": [
       "'Aliens vs Predator: Requiem'"
      ]
     },
     "execution_count": 78,
     "metadata": {},
     "output_type": "execute_result"
    }
   ],
   "source": [
    "df.iloc[579].title"
   ]
  },
  {
   "cell_type": "code",
   "execution_count": 79,
   "id": "f36d7f7c-8037-4dbf-a34b-d30e2a2d9c57",
   "metadata": {},
   "outputs": [
    {
     "data": {
      "text/html": [
       "<div>\n",
       "<style scoped>\n",
       "    .dataframe tbody tr th:only-of-type {\n",
       "        vertical-align: middle;\n",
       "    }\n",
       "\n",
       "    .dataframe tbody tr th {\n",
       "        vertical-align: top;\n",
       "    }\n",
       "\n",
       "    .dataframe thead th {\n",
       "        text-align: right;\n",
       "    }\n",
       "</style>\n",
       "<table border=\"1\" class=\"dataframe\">\n",
       "  <thead>\n",
       "    <tr style=\"text-align: right;\">\n",
       "      <th></th>\n",
       "      <th>movie_id</th>\n",
       "      <th>title</th>\n",
       "      <th>tags</th>\n",
       "    </tr>\n",
       "  </thead>\n",
       "  <tbody>\n",
       "    <tr>\n",
       "      <th>0</th>\n",
       "      <td>19995</td>\n",
       "      <td>Avatar</td>\n",
       "      <td>in the 22nd century, a parapleg marin is dispa...</td>\n",
       "    </tr>\n",
       "  </tbody>\n",
       "</table>\n",
       "</div>"
      ],
      "text/plain": [
       "   movie_id   title                                               tags\n",
       "0     19995  Avatar  in the 22nd century, a parapleg marin is dispa..."
      ]
     },
     "execution_count": 79,
     "metadata": {},
     "output_type": "execute_result"
    }
   ],
   "source": [
    "df[df['title']=='Avatar']"
   ]
  },
  {
   "cell_type": "code",
   "execution_count": 80,
   "id": "d02248d2-ac7d-486e-a86a-a2e8343a3329",
   "metadata": {},
   "outputs": [
    {
     "data": {
      "text/html": [
       "<div>\n",
       "<style scoped>\n",
       "    .dataframe tbody tr th:only-of-type {\n",
       "        vertical-align: middle;\n",
       "    }\n",
       "\n",
       "    .dataframe tbody tr th {\n",
       "        vertical-align: top;\n",
       "    }\n",
       "\n",
       "    .dataframe thead th {\n",
       "        text-align: right;\n",
       "    }\n",
       "</style>\n",
       "<table border=\"1\" class=\"dataframe\">\n",
       "  <thead>\n",
       "    <tr style=\"text-align: right;\">\n",
       "      <th></th>\n",
       "      <th>movie_id</th>\n",
       "      <th>title</th>\n",
       "      <th>tags</th>\n",
       "    </tr>\n",
       "  </thead>\n",
       "  <tbody>\n",
       "    <tr>\n",
       "      <th>119</th>\n",
       "      <td>272</td>\n",
       "      <td>Batman Begins</td>\n",
       "      <td>driven by tragedy, billionair bruce wayn dedic...</td>\n",
       "    </tr>\n",
       "  </tbody>\n",
       "</table>\n",
       "</div>"
      ],
      "text/plain": [
       "     movie_id          title  \\\n",
       "119       272  Batman Begins   \n",
       "\n",
       "                                                  tags  \n",
       "119  driven by tragedy, billionair bruce wayn dedic...  "
      ]
     },
     "execution_count": 80,
     "metadata": {},
     "output_type": "execute_result"
    }
   ],
   "source": [
    "df[df['title']=='Batman Begins']"
   ]
  },
  {
   "cell_type": "code",
   "execution_count": 81,
   "id": "f2b7484f-9bf8-4ec3-a10b-e810f8b56179",
   "metadata": {},
   "outputs": [
    {
     "data": {
      "text/plain": [
       "Index([119], dtype='int64')"
      ]
     },
     "execution_count": 81,
     "metadata": {},
     "output_type": "execute_result"
    }
   ],
   "source": [
    "df[df['title']=='Batman Begins'].index"
   ]
  },
  {
   "cell_type": "code",
   "execution_count": 82,
   "id": "5c4f5776-af1c-45b1-aae2-1dfe44660d4a",
   "metadata": {},
   "outputs": [
    {
     "data": {
      "text/plain": [
       "'Kung Fu Panda 3'"
      ]
     },
     "execution_count": 82,
     "metadata": {},
     "output_type": "execute_result"
    }
   ],
   "source": [
    "df.iloc[119].title"
   ]
  },
  {
   "cell_type": "code",
   "execution_count": 83,
   "id": "00ff6546-3c61-4d85-85b8-8b69404ac9be",
   "metadata": {},
   "outputs": [
    {
     "data": {
      "text/plain": [
       "movie_id                                               140300\n",
       "title                                         Kung Fu Panda 3\n",
       "tags        continu hi \"legendari adventur of awesomeness\"...\n",
       "Name: 152, dtype: object"
      ]
     },
     "execution_count": 83,
     "metadata": {},
     "output_type": "execute_result"
    }
   ],
   "source": [
    "df.iloc[119]"
   ]
  },
  {
   "cell_type": "code",
   "execution_count": 84,
   "id": "93ef5294-1681-4633-8e4d-4f61aafddbc1",
   "metadata": {},
   "outputs": [],
   "source": [
    "import pickle"
   ]
  },
  {
   "cell_type": "code",
   "execution_count": 85,
   "id": "2ff65f26-2d1a-4d03-b7ac-03ac4a877e6f",
   "metadata": {},
   "outputs": [],
   "source": [
    "pickle.dump(df,open('movies1.pkl','wb'))"
   ]
  },
  {
   "cell_type": "code",
   "execution_count": 86,
   "id": "748c26c2-465c-4fc9-80af-165a12c498ea",
   "metadata": {},
   "outputs": [],
   "source": [
    "pickle.dump(df.to_dict(),open('movies1_dict.pkl','wb'))"
   ]
  },
  {
   "cell_type": "code",
   "execution_count": null,
   "id": "39c94216-aefa-4b1a-8bbc-10158d0de140",
   "metadata": {},
   "outputs": [],
   "source": [
    "df.to_dict()"
   ]
  },
  {
   "cell_type": "code",
   "execution_count": 88,
   "id": "586be406-4864-4cb2-bae3-7e9f9d96368e",
   "metadata": {},
   "outputs": [],
   "source": [
    "pickle.dump(similarity,open('similarity1.pkl','wb'))"
   ]
  },
  {
   "cell_type": "code",
   "execution_count": null,
   "id": "19de7cdf-8b2e-4bd5-a297-1af1a9ef5b86",
   "metadata": {},
   "outputs": [],
   "source": []
  }
 ],
 "metadata": {
  "kernelspec": {
   "display_name": "Python 3 (ipykernel)",
   "language": "python",
   "name": "python3"
  },
  "language_info": {
   "codemirror_mode": {
    "name": "ipython",
    "version": 3
   },
   "file_extension": ".py",
   "mimetype": "text/x-python",
   "name": "python",
   "nbconvert_exporter": "python",
   "pygments_lexer": "ipython3",
   "version": "3.11.8"
  }
 },
 "nbformat": 4,
 "nbformat_minor": 5
}
